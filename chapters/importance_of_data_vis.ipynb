{
 "cells": [
  {
   "cell_type": "markdown",
   "metadata": {},
   "source": [
    "# 1. Importance of Data Visualization"
   ]
  },
  {
   "cell_type": "markdown",
   "metadata": {},
   "source": [
    "To demonstrate the importance of data visualization for results interpretation we can use a collection of four datasets known as **Anscombe's quartet** (after an English statistician Francis Anscombe). Those datasets comprise 11 data points with particular properties: while the points themselves differ between the sets, their summary statistics are (nearly) exactly the same, i.e.: all those datasets have the same mean, standard deviation and regression line with the same parameters and R2 metric. And yet, the shape of the data differs widely between those, as we will see below."
   ]
  },
  {
   "cell_type": "markdown",
   "metadata": {},
   "source": [
    "###### Set up of the environment"
   ]
  },
  {
   "cell_type": "code",
   "execution_count": 1,
   "metadata": {},
   "outputs": [],
   "source": [
    "import math\n",
    "import matplotlib.pyplot as plt\n",
    "import numpy as np\n",
    "import pandas as pd\n",
    "import seaborn as sns\n",
    "\n",
    "from scipy import stats\n",
    "\n",
    "# this is to silence pandas' warnings\n",
    "import warnings\n",
    "warnings.simplefilter(action='ignore')\n",
    "%config InlineBackend.figure_format='svg'\n",
    "%matplotlib inline"
   ]
  },
  {
   "cell_type": "markdown",
   "metadata": {},
   "source": [
    "###### Load the dataset and analyze it"
   ]
  },
  {
   "cell_type": "markdown",
   "metadata": {},
   "source": [
    "The *seaborn* library provides a method to read in this dataset directly:"
   ]
  },
  {
   "cell_type": "code",
   "execution_count": 2,
   "metadata": {},
   "outputs": [],
   "source": [
    "quartet = sns.load_dataset(\"anscombe\")"
   ]
  },
  {
   "cell_type": "code",
   "execution_count": 3,
   "metadata": {},
   "outputs": [
    {
     "data": {
      "text/html": [
       "<div>\n",
       "<style scoped>\n",
       "    .dataframe tbody tr th:only-of-type {\n",
       "        vertical-align: middle;\n",
       "    }\n",
       "\n",
       "    .dataframe tbody tr th {\n",
       "        vertical-align: top;\n",
       "    }\n",
       "\n",
       "    .dataframe thead th {\n",
       "        text-align: right;\n",
       "    }\n",
       "</style>\n",
       "<table border=\"1\" class=\"dataframe\">\n",
       "  <thead>\n",
       "    <tr style=\"text-align: right;\">\n",
       "      <th></th>\n",
       "      <th>dataset</th>\n",
       "      <th>x</th>\n",
       "      <th>y</th>\n",
       "    </tr>\n",
       "  </thead>\n",
       "  <tbody>\n",
       "    <tr>\n",
       "      <th>0</th>\n",
       "      <td>I</td>\n",
       "      <td>10.0</td>\n",
       "      <td>8.04</td>\n",
       "    </tr>\n",
       "    <tr>\n",
       "      <th>1</th>\n",
       "      <td>I</td>\n",
       "      <td>8.0</td>\n",
       "      <td>6.95</td>\n",
       "    </tr>\n",
       "    <tr>\n",
       "      <th>2</th>\n",
       "      <td>I</td>\n",
       "      <td>13.0</td>\n",
       "      <td>7.58</td>\n",
       "    </tr>\n",
       "    <tr>\n",
       "      <th>3</th>\n",
       "      <td>I</td>\n",
       "      <td>9.0</td>\n",
       "      <td>8.81</td>\n",
       "    </tr>\n",
       "    <tr>\n",
       "      <th>4</th>\n",
       "      <td>I</td>\n",
       "      <td>11.0</td>\n",
       "      <td>8.33</td>\n",
       "    </tr>\n",
       "  </tbody>\n",
       "</table>\n",
       "</div>"
      ],
      "text/plain": [
       "  dataset     x     y\n",
       "0       I  10.0  8.04\n",
       "1       I   8.0  6.95\n",
       "2       I  13.0  7.58\n",
       "3       I   9.0  8.81\n",
       "4       I  11.0  8.33"
      ]
     },
     "execution_count": 3,
     "metadata": {},
     "output_type": "execute_result"
    }
   ],
   "source": [
    "quartet.head() #display the first five records"
   ]
  },
  {
   "cell_type": "markdown",
   "metadata": {},
   "source": [
    "We can now explore the summary metrics of the data. Let's look at the mean, standard deviation and linear regression equation."
   ]
  },
  {
   "cell_type": "code",
   "execution_count": 4,
   "metadata": {},
   "outputs": [],
   "source": [
    "quartet_grouped = quartet.groupby('dataset')"
   ]
  },
  {
   "cell_type": "code",
   "execution_count": 5,
   "metadata": {},
   "outputs": [
    {
     "data": {
      "text/html": [
       "<div>\n",
       "<style scoped>\n",
       "    .dataframe tbody tr th:only-of-type {\n",
       "        vertical-align: middle;\n",
       "    }\n",
       "\n",
       "    .dataframe tbody tr th {\n",
       "        vertical-align: top;\n",
       "    }\n",
       "\n",
       "    .dataframe thead th {\n",
       "        text-align: right;\n",
       "    }\n",
       "</style>\n",
       "<table border=\"1\" class=\"dataframe\">\n",
       "  <thead>\n",
       "    <tr style=\"text-align: right;\">\n",
       "      <th></th>\n",
       "      <th>x</th>\n",
       "      <th>y</th>\n",
       "    </tr>\n",
       "    <tr>\n",
       "      <th>dataset</th>\n",
       "      <th></th>\n",
       "      <th></th>\n",
       "    </tr>\n",
       "  </thead>\n",
       "  <tbody>\n",
       "    <tr>\n",
       "      <th>I</th>\n",
       "      <td>9.0</td>\n",
       "      <td>7.500909</td>\n",
       "    </tr>\n",
       "    <tr>\n",
       "      <th>II</th>\n",
       "      <td>9.0</td>\n",
       "      <td>7.500909</td>\n",
       "    </tr>\n",
       "    <tr>\n",
       "      <th>III</th>\n",
       "      <td>9.0</td>\n",
       "      <td>7.500000</td>\n",
       "    </tr>\n",
       "    <tr>\n",
       "      <th>IV</th>\n",
       "      <td>9.0</td>\n",
       "      <td>7.500909</td>\n",
       "    </tr>\n",
       "  </tbody>\n",
       "</table>\n",
       "</div>"
      ],
      "text/plain": [
       "           x         y\n",
       "dataset               \n",
       "I        9.0  7.500909\n",
       "II       9.0  7.500909\n",
       "III      9.0  7.500000\n",
       "IV       9.0  7.500909"
      ]
     },
     "execution_count": 5,
     "metadata": {},
     "output_type": "execute_result"
    }
   ],
   "source": [
    "quartet_grouped.mean()"
   ]
  },
  {
   "cell_type": "code",
   "execution_count": 6,
   "metadata": {},
   "outputs": [
    {
     "data": {
      "text/html": [
       "<div>\n",
       "<style scoped>\n",
       "    .dataframe tbody tr th:only-of-type {\n",
       "        vertical-align: middle;\n",
       "    }\n",
       "\n",
       "    .dataframe tbody tr th {\n",
       "        vertical-align: top;\n",
       "    }\n",
       "\n",
       "    .dataframe thead th {\n",
       "        text-align: right;\n",
       "    }\n",
       "</style>\n",
       "<table border=\"1\" class=\"dataframe\">\n",
       "  <thead>\n",
       "    <tr style=\"text-align: right;\">\n",
       "      <th></th>\n",
       "      <th>x</th>\n",
       "      <th>y</th>\n",
       "    </tr>\n",
       "    <tr>\n",
       "      <th>dataset</th>\n",
       "      <th></th>\n",
       "      <th></th>\n",
       "    </tr>\n",
       "  </thead>\n",
       "  <tbody>\n",
       "    <tr>\n",
       "      <th>I</th>\n",
       "      <td>3.316625</td>\n",
       "      <td>2.031568</td>\n",
       "    </tr>\n",
       "    <tr>\n",
       "      <th>II</th>\n",
       "      <td>3.316625</td>\n",
       "      <td>2.031657</td>\n",
       "    </tr>\n",
       "    <tr>\n",
       "      <th>III</th>\n",
       "      <td>3.316625</td>\n",
       "      <td>2.030424</td>\n",
       "    </tr>\n",
       "    <tr>\n",
       "      <th>IV</th>\n",
       "      <td>3.316625</td>\n",
       "      <td>2.030579</td>\n",
       "    </tr>\n",
       "  </tbody>\n",
       "</table>\n",
       "</div>"
      ],
      "text/plain": [
       "                x         y\n",
       "dataset                    \n",
       "I        3.316625  2.031568\n",
       "II       3.316625  2.031657\n",
       "III      3.316625  2.030424\n",
       "IV       3.316625  2.030579"
      ]
     },
     "execution_count": 6,
     "metadata": {},
     "output_type": "execute_result"
    }
   ],
   "source": [
    "quartet_grouped.std()"
   ]
  },
  {
   "cell_type": "code",
   "execution_count": 7,
   "metadata": {},
   "outputs": [
    {
     "name": "stdout",
     "output_type": "stream",
     "text": [
      "Dataset I:\ty=0.5x+3.0\tR-coeff=0.667\tCorrelation-coeff=0.816\n",
      "Dataset II:\ty=0.5x+3.001\tR-coeff=0.666\tCorrelation-coeff=0.816\n",
      "Dataset III:\ty=0.5x+3.002\tR-coeff=0.666\tCorrelation-coeff=0.816\n",
      "Dataset IV:\ty=0.5x+3.002\tR-coeff=0.667\tCorrelation-coeff=0.817\n"
     ]
    }
   ],
   "source": [
    "# fit a linear regression model for each dataset\n",
    "\n",
    "for ds in quartet['dataset'].unique():\n",
    "    dataset = quartet[quartet['dataset'] == ds]\n",
    "    res = stats.linregress(dataset['x'], dataset['y'])\n",
    "    print(\n",
    "        f'Dataset {ds}:\\ty={round(res.slope, 3)}x+{round(res.intercept, 3)}'\n",
    "        f'\\tR-coeff={round(res.rvalue**2, 3)}\\tCorrelation-coeff={round(res.rvalue, 3)}'\n",
    "    )"
   ]
  },
  {
   "cell_type": "markdown",
   "metadata": {},
   "source": [
    "As you can see, the numbers are nearly identical. Without visualizing the data it would be rather difficult to tell the datasets apart.\n",
    "\n",
    "Let's try to look at the data using a scatter plot, including a regression line (automatically calculated by the `lmplot` function):"
   ]
  },
  {
   "cell_type": "code",
   "execution_count": 8,
   "metadata": {},
   "outputs": [
    {
     "data": {
      "image/svg+xml": "<?xml version=\"1.0\" encoding=\"utf-8\" standalone=\"no\"?>\n<!DOCTYPE svg PUBLIC \"-//W3C//DTD SVG 1.1//EN\"\n  \"http://www.w3.org/Graphics/SVG/1.1/DTD/svg11.dtd\">\n<svg xmlns:xlink=\"http://www.w3.org/1999/xlink\" width=\"1411.71925pt\" height=\"329.224062pt\" viewBox=\"0 0 1411.71925 329.224062\" xmlns=\"http://www.w3.org/2000/svg\" version=\"1.1\">\n <metadata>\n  <rdf:RDF xmlns:dc=\"http://purl.org/dc/elements/1.1/\" xmlns:cc=\"http://creativecommons.org/ns#\" xmlns:rdf=\"http://www.w3.org/1999/02/22-rdf-syntax-ns#\">\n   <cc:Work>\n    <dc:type rdf:resource=\"http://purl.org/dc/dcmitype/StillImage\"/>\n    <dc:date>2022-10-17T17:03:33.611938</dc:date>\n    <dc:format>image/svg+xml</dc:format>\n    <dc:creator>\n     <cc:Agent>\n      <dc:title>Matplotlib v3.6.0, https://matplotlib.org/</dc:title>\n     </cc:Agent>\n    </dc:creator>\n   </cc:Work>\n  </rdf:RDF>\n </metadata>\n <defs>\n  <style type=\"text/css\">*{stroke-linejoin: round; stroke-linecap: butt}</style>\n </defs>\n <g id=\"figure_1\">\n  <g id=\"patch_1\">\n   <path d=\"M 0 329.224062 \nL 1411.71925 329.224062 \nL 1411.71925 0 \nL 0 0 \nz\n\" style=\"fill: #ffffff\"/>\n  </g>\n  <g id=\"axes_1\">\n   <g id=\"patch_2\">\n    <path d=\"M 66.80025 268.456625 \nL 383.734 268.456625 \nL 383.734 29.612625 \nL 66.80025 29.612625 \nz\n\" style=\"fill: #ffffff\"/>\n   </g>\n   <g id=\"matplotlib.axis_1\">\n    <g id=\"xtick_1\">\n     <g id=\"text_1\">\n      <!-- 2.5 -->\n      <g style=\"fill: #262626\" transform=\"translate(58.9795 293.001531) scale(0.198 -0.198)\">\n       <defs>\n        <path id=\"DejaVuSans-32\" d=\"M 1228 531 \nL 3431 531 \nL 3431 0 \nL 469 0 \nL 469 531 \nQ 828 903 1448 1529 \nQ 2069 2156 2228 2338 \nQ 2531 2678 2651 2914 \nQ 2772 3150 2772 3378 \nQ 2772 3750 2511 3984 \nQ 2250 4219 1831 4219 \nQ 1534 4219 1204 4116 \nQ 875 4013 500 3803 \nL 500 4441 \nQ 881 4594 1212 4672 \nQ 1544 4750 1819 4750 \nQ 2544 4750 2975 4387 \nQ 3406 4025 3406 3419 \nQ 3406 3131 3298 2873 \nQ 3191 2616 2906 2266 \nQ 2828 2175 2409 1742 \nQ 1991 1309 1228 531 \nz\n\" transform=\"scale(0.015625)\"/>\n        <path id=\"DejaVuSans-2e\" d=\"M 684 794 \nL 1344 794 \nL 1344 0 \nL 684 0 \nL 684 794 \nz\n\" transform=\"scale(0.015625)\"/>\n        <path id=\"DejaVuSans-35\" d=\"M 691 4666 \nL 3169 4666 \nL 3169 4134 \nL 1269 4134 \nL 1269 2991 \nQ 1406 3038 1543 3061 \nQ 1681 3084 1819 3084 \nQ 2600 3084 3056 2656 \nQ 3513 2228 3513 1497 \nQ 3513 744 3044 326 \nQ 2575 -91 1722 -91 \nQ 1428 -91 1123 -41 \nQ 819 9 494 109 \nL 494 744 \nQ 775 591 1075 516 \nQ 1375 441 1709 441 \nQ 2250 441 2565 725 \nQ 2881 1009 2881 1497 \nQ 2881 1984 2565 2268 \nQ 2250 2553 1709 2553 \nQ 1456 2553 1204 2497 \nQ 953 2441 691 2322 \nL 691 4666 \nz\n\" transform=\"scale(0.015625)\"/>\n       </defs>\n       <use xlink:href=\"#DejaVuSans-32\"/>\n       <use xlink:href=\"#DejaVuSans-2e\" x=\"63.623047\"/>\n       <use xlink:href=\"#DejaVuSans-35\" x=\"95.410156\"/>\n      </g>\n     </g>\n    </g>\n    <g id=\"xtick_2\">\n     <g id=\"text_2\">\n      <!-- 5.0 -->\n      <g style=\"fill: #262626\" transform=\"translate(98.596219 293.001531) scale(0.198 -0.198)\">\n       <defs>\n        <path id=\"DejaVuSans-30\" d=\"M 2034 4250 \nQ 1547 4250 1301 3770 \nQ 1056 3291 1056 2328 \nQ 1056 1369 1301 889 \nQ 1547 409 2034 409 \nQ 2525 409 2770 889 \nQ 3016 1369 3016 2328 \nQ 3016 3291 2770 3770 \nQ 2525 4250 2034 4250 \nz\nM 2034 4750 \nQ 2819 4750 3233 4129 \nQ 3647 3509 3647 2328 \nQ 3647 1150 3233 529 \nQ 2819 -91 2034 -91 \nQ 1250 -91 836 529 \nQ 422 1150 422 2328 \nQ 422 3509 836 4129 \nQ 1250 4750 2034 4750 \nz\n\" transform=\"scale(0.015625)\"/>\n       </defs>\n       <use xlink:href=\"#DejaVuSans-35\"/>\n       <use xlink:href=\"#DejaVuSans-2e\" x=\"63.623047\"/>\n       <use xlink:href=\"#DejaVuSans-30\" x=\"95.410156\"/>\n      </g>\n     </g>\n    </g>\n    <g id=\"xtick_3\">\n     <g id=\"text_3\">\n      <!-- 7.5 -->\n      <g style=\"fill: #262626\" transform=\"translate(138.212938 293.001531) scale(0.198 -0.198)\">\n       <defs>\n        <path id=\"DejaVuSans-37\" d=\"M 525 4666 \nL 3525 4666 \nL 3525 4397 \nL 1831 0 \nL 1172 0 \nL 2766 4134 \nL 525 4134 \nL 525 4666 \nz\n\" transform=\"scale(0.015625)\"/>\n       </defs>\n       <use xlink:href=\"#DejaVuSans-37\"/>\n       <use xlink:href=\"#DejaVuSans-2e\" x=\"63.623047\"/>\n       <use xlink:href=\"#DejaVuSans-35\" x=\"95.410156\"/>\n      </g>\n     </g>\n    </g>\n    <g id=\"xtick_4\">\n     <g id=\"text_4\">\n      <!-- 10.0 -->\n      <g style=\"fill: #262626\" transform=\"translate(171.530781 293.001531) scale(0.198 -0.198)\">\n       <defs>\n        <path id=\"DejaVuSans-31\" d=\"M 794 531 \nL 1825 531 \nL 1825 4091 \nL 703 3866 \nL 703 4441 \nL 1819 4666 \nL 2450 4666 \nL 2450 531 \nL 3481 531 \nL 3481 0 \nL 794 0 \nL 794 531 \nz\n\" transform=\"scale(0.015625)\"/>\n       </defs>\n       <use xlink:href=\"#DejaVuSans-31\"/>\n       <use xlink:href=\"#DejaVuSans-30\" x=\"63.623047\"/>\n       <use xlink:href=\"#DejaVuSans-2e\" x=\"127.246094\"/>\n       <use xlink:href=\"#DejaVuSans-30\" x=\"159.033203\"/>\n      </g>\n     </g>\n    </g>\n    <g id=\"xtick_5\">\n     <g id=\"text_5\">\n      <!-- 12.5 -->\n      <g style=\"fill: #262626\" transform=\"translate(211.1475 293.001531) scale(0.198 -0.198)\">\n       <use xlink:href=\"#DejaVuSans-31\"/>\n       <use xlink:href=\"#DejaVuSans-32\" x=\"63.623047\"/>\n       <use xlink:href=\"#DejaVuSans-2e\" x=\"127.246094\"/>\n       <use xlink:href=\"#DejaVuSans-35\" x=\"159.033203\"/>\n      </g>\n     </g>\n    </g>\n    <g id=\"xtick_6\">\n     <g id=\"text_6\">\n      <!-- 15.0 -->\n      <g style=\"fill: #262626\" transform=\"translate(250.764219 293.001531) scale(0.198 -0.198)\">\n       <use xlink:href=\"#DejaVuSans-31\"/>\n       <use xlink:href=\"#DejaVuSans-35\" x=\"63.623047\"/>\n       <use xlink:href=\"#DejaVuSans-2e\" x=\"127.246094\"/>\n       <use xlink:href=\"#DejaVuSans-30\" x=\"159.033203\"/>\n      </g>\n     </g>\n    </g>\n    <g id=\"xtick_7\">\n     <g id=\"text_7\">\n      <!-- 17.5 -->\n      <g style=\"fill: #262626\" transform=\"translate(290.380938 293.001531) scale(0.198 -0.198)\">\n       <use xlink:href=\"#DejaVuSans-31\"/>\n       <use xlink:href=\"#DejaVuSans-37\" x=\"63.623047\"/>\n       <use xlink:href=\"#DejaVuSans-2e\" x=\"127.246094\"/>\n       <use xlink:href=\"#DejaVuSans-35\" x=\"159.033203\"/>\n      </g>\n     </g>\n    </g>\n    <g id=\"xtick_8\">\n     <g id=\"text_8\">\n      <!-- 20.0 -->\n      <g style=\"fill: #262626\" transform=\"translate(329.997656 293.001531) scale(0.198 -0.198)\">\n       <use xlink:href=\"#DejaVuSans-32\"/>\n       <use xlink:href=\"#DejaVuSans-30\" x=\"63.623047\"/>\n       <use xlink:href=\"#DejaVuSans-2e\" x=\"127.246094\"/>\n       <use xlink:href=\"#DejaVuSans-30\" x=\"159.033203\"/>\n      </g>\n     </g>\n    </g>\n    <g id=\"text_9\">\n     <!-- x -->\n     <g style=\"fill: #262626\" transform=\"translate(218.874875 317.531937) scale(0.216 -0.216)\">\n      <defs>\n       <path id=\"DejaVuSans-78\" d=\"M 3513 3500 \nL 2247 1797 \nL 3578 0 \nL 2900 0 \nL 1881 1375 \nL 863 0 \nL 184 0 \nL 1544 1831 \nL 300 3500 \nL 978 3500 \nL 1906 2253 \nL 2834 3500 \nL 3513 3500 \nz\n\" transform=\"scale(0.015625)\"/>\n      </defs>\n      <use xlink:href=\"#DejaVuSans-78\"/>\n     </g>\n    </g>\n   </g>\n   <g id=\"matplotlib.axis_2\">\n    <g id=\"ytick_1\">\n     <g id=\"text_10\">\n      <!-- 4 -->\n      <g style=\"fill: #262626\" transform=\"translate(44.7025 244.850975) scale(0.198 -0.198)\">\n       <defs>\n        <path id=\"DejaVuSans-34\" d=\"M 2419 4116 \nL 825 1625 \nL 2419 1625 \nL 2419 4116 \nz\nM 2253 4666 \nL 3047 4666 \nL 3047 1625 \nL 3713 1625 \nL 3713 1100 \nL 3047 1100 \nL 3047 0 \nL 2419 0 \nL 2419 1100 \nL 313 1100 \nL 313 1709 \nL 2253 4666 \nz\n\" transform=\"scale(0.015625)\"/>\n       </defs>\n       <use xlink:href=\"#DejaVuSans-34\"/>\n      </g>\n     </g>\n    </g>\n    <g id=\"ytick_2\">\n     <g id=\"text_11\">\n      <!-- 6 -->\n      <g style=\"fill: #262626\" transform=\"translate(44.7025 199.803068) scale(0.198 -0.198)\">\n       <defs>\n        <path id=\"DejaVuSans-36\" d=\"M 2113 2584 \nQ 1688 2584 1439 2293 \nQ 1191 2003 1191 1497 \nQ 1191 994 1439 701 \nQ 1688 409 2113 409 \nQ 2538 409 2786 701 \nQ 3034 994 3034 1497 \nQ 3034 2003 2786 2293 \nQ 2538 2584 2113 2584 \nz\nM 3366 4563 \nL 3366 3988 \nQ 3128 4100 2886 4159 \nQ 2644 4219 2406 4219 \nQ 1781 4219 1451 3797 \nQ 1122 3375 1075 2522 \nQ 1259 2794 1537 2939 \nQ 1816 3084 2150 3084 \nQ 2853 3084 3261 2657 \nQ 3669 2231 3669 1497 \nQ 3669 778 3244 343 \nQ 2819 -91 2113 -91 \nQ 1303 -91 875 529 \nQ 447 1150 447 2328 \nQ 447 3434 972 4092 \nQ 1497 4750 2381 4750 \nQ 2619 4750 2861 4703 \nQ 3103 4656 3366 4563 \nz\n\" transform=\"scale(0.015625)\"/>\n       </defs>\n       <use xlink:href=\"#DejaVuSans-36\"/>\n      </g>\n     </g>\n    </g>\n    <g id=\"ytick_3\">\n     <g id=\"text_12\">\n      <!-- 8 -->\n      <g style=\"fill: #262626\" transform=\"translate(44.7025 154.755162) scale(0.198 -0.198)\">\n       <defs>\n        <path id=\"DejaVuSans-38\" d=\"M 2034 2216 \nQ 1584 2216 1326 1975 \nQ 1069 1734 1069 1313 \nQ 1069 891 1326 650 \nQ 1584 409 2034 409 \nQ 2484 409 2743 651 \nQ 3003 894 3003 1313 \nQ 3003 1734 2745 1975 \nQ 2488 2216 2034 2216 \nz\nM 1403 2484 \nQ 997 2584 770 2862 \nQ 544 3141 544 3541 \nQ 544 4100 942 4425 \nQ 1341 4750 2034 4750 \nQ 2731 4750 3128 4425 \nQ 3525 4100 3525 3541 \nQ 3525 3141 3298 2862 \nQ 3072 2584 2669 2484 \nQ 3125 2378 3379 2068 \nQ 3634 1759 3634 1313 \nQ 3634 634 3220 271 \nQ 2806 -91 2034 -91 \nQ 1263 -91 848 271 \nQ 434 634 434 1313 \nQ 434 1759 690 2068 \nQ 947 2378 1403 2484 \nz\nM 1172 3481 \nQ 1172 3119 1398 2916 \nQ 1625 2713 2034 2713 \nQ 2441 2713 2670 2916 \nQ 2900 3119 2900 3481 \nQ 2900 3844 2670 4047 \nQ 2441 4250 2034 4250 \nQ 1625 4250 1398 4047 \nQ 1172 3844 1172 3481 \nz\n\" transform=\"scale(0.015625)\"/>\n       </defs>\n       <use xlink:href=\"#DejaVuSans-38\"/>\n      </g>\n     </g>\n    </g>\n    <g id=\"ytick_4\">\n     <g id=\"text_13\">\n      <!-- 10 -->\n      <g style=\"fill: #262626\" transform=\"translate(32.10475 109.707255) scale(0.198 -0.198)\">\n       <use xlink:href=\"#DejaVuSans-31\"/>\n       <use xlink:href=\"#DejaVuSans-30\" x=\"63.623047\"/>\n      </g>\n     </g>\n    </g>\n    <g id=\"ytick_5\">\n     <g id=\"text_14\">\n      <!-- 12 -->\n      <g style=\"fill: #262626\" transform=\"translate(32.10475 64.659349) scale(0.198 -0.198)\">\n       <use xlink:href=\"#DejaVuSans-31\"/>\n       <use xlink:href=\"#DejaVuSans-32\" x=\"63.623047\"/>\n      </g>\n     </g>\n    </g>\n    <g id=\"text_15\">\n     <!-- y -->\n     <g style=\"fill: #262626\" transform=\"translate(23.612625 155.426875) rotate(-90) scale(0.216 -0.216)\">\n      <defs>\n       <path id=\"DejaVuSans-79\" d=\"M 2059 -325 \nQ 1816 -950 1584 -1140 \nQ 1353 -1331 966 -1331 \nL 506 -1331 \nL 506 -850 \nL 844 -850 \nQ 1081 -850 1212 -737 \nQ 1344 -625 1503 -206 \nL 1606 56 \nL 191 3500 \nL 800 3500 \nL 1894 763 \nL 2988 3500 \nL 3597 3500 \nL 2059 -325 \nz\n\" transform=\"scale(0.015625)\"/>\n      </defs>\n      <use xlink:href=\"#DejaVuSans-79\"/>\n     </g>\n    </g>\n   </g>\n   <g id=\"PathCollection_1\">\n    <defs>\n     <path id=\"mc93d04505d\" d=\"M 0 5 \nC 1.326016 5 2.597899 4.473168 3.535534 3.535534 \nC 4.473168 2.597899 5 1.326016 5 0 \nC 5 -1.326016 4.473168 -2.597899 3.535534 -3.535534 \nC 2.597899 -4.473168 1.326016 -5 0 -5 \nC -1.326016 -5 -2.597899 -4.473168 -3.535534 -3.535534 \nC -4.473168 -2.597899 -5 -1.326016 -5 0 \nC -5 1.326016 -4.473168 2.597899 -3.535534 3.535534 \nC -2.597899 4.473168 -1.326016 5 0 5 \nz\n\" style=\"stroke: #0d62a3; stroke-opacity: 0.8\"/>\n    </defs>\n    <g clip-path=\"url(#pcbaa30b19b)\">\n     <use xlink:href=\"#mc93d04505d\" x=\"193.57375\" y=\"146.331751\" style=\"fill: #0d62a3; fill-opacity: 0.8; stroke: #0d62a3; stroke-opacity: 0.8\"/>\n     <use xlink:href=\"#mc93d04505d\" x=\"161.880375\" y=\"170.88286\" style=\"fill: #0d62a3; fill-opacity: 0.8; stroke: #0d62a3; stroke-opacity: 0.8\"/>\n     <use xlink:href=\"#mc93d04505d\" x=\"241.113812\" y=\"156.692769\" style=\"fill: #0d62a3; fill-opacity: 0.8; stroke: #0d62a3; stroke-opacity: 0.8\"/>\n     <use xlink:href=\"#mc93d04505d\" x=\"177.727062\" y=\"128.988307\" style=\"fill: #0d62a3; fill-opacity: 0.8; stroke: #0d62a3; stroke-opacity: 0.8\"/>\n     <use xlink:href=\"#mc93d04505d\" x=\"209.420437\" y=\"139.799804\" style=\"fill: #0d62a3; fill-opacity: 0.8; stroke: #0d62a3; stroke-opacity: 0.8\"/>\n     <use xlink:href=\"#mc93d04505d\" x=\"256.9605\" y=\"103.08576\" style=\"fill: #0d62a3; fill-opacity: 0.8; stroke: #0d62a3; stroke-opacity: 0.8\"/>\n     <use xlink:href=\"#mc93d04505d\" x=\"130.187\" y=\"164.350913\" style=\"fill: #0d62a3; fill-opacity: 0.8; stroke: #0d62a3; stroke-opacity: 0.8\"/>\n     <use xlink:href=\"#mc93d04505d\" x=\"98.493625\" y=\"231.472294\" style=\"fill: #0d62a3; fill-opacity: 0.8; stroke: #0d62a3; stroke-opacity: 0.8\"/>\n     <use xlink:href=\"#mc93d04505d\" x=\"225.267125\" y=\"83.264682\" style=\"fill: #0d62a3; fill-opacity: 0.8; stroke: #0d62a3; stroke-opacity: 0.8\"/>\n     <use xlink:href=\"#mc93d04505d\" x=\"146.033687\" y=\"218.85888\" style=\"fill: #0d62a3; fill-opacity: 0.8; stroke: #0d62a3; stroke-opacity: 0.8\"/>\n     <use xlink:href=\"#mc93d04505d\" x=\"114.340312\" y=\"199.48828\" style=\"fill: #0d62a3; fill-opacity: 0.8; stroke: #0d62a3; stroke-opacity: 0.8\"/>\n    </g>\n   </g>\n   <g id=\"line2d_1\">\n    <path d=\"M 98.493625 214.79433 \nL 100.094301 213.65655 \nL 101.694976 212.51877 \nL 103.295652 211.38099 \nL 104.896327 210.243209 \nL 106.497003 209.105429 \nL 108.097678 207.967649 \nL 109.698354 206.829869 \nL 111.299029 205.692088 \nL 112.899705 204.554308 \nL 114.50038 203.416528 \nL 116.101056 202.278748 \nL 117.701731 201.140968 \nL 119.302407 200.003187 \nL 120.903082 198.865407 \nL 122.503758 197.727627 \nL 124.104433 196.589847 \nL 125.705109 195.452066 \nL 127.305784 194.314286 \nL 128.90646 193.176506 \nL 130.507135 192.038726 \nL 132.107811 190.900945 \nL 133.708486 189.763165 \nL 135.309162 188.625385 \nL 136.909837 187.487605 \nL 138.510513 186.349825 \nL 140.111188 185.212044 \nL 141.711864 184.074264 \nL 143.312539 182.936484 \nL 144.913215 181.798704 \nL 146.51389 180.660923 \nL 148.114566 179.523143 \nL 149.715241 178.385363 \nL 151.315917 177.247583 \nL 152.916592 176.109803 \nL 154.517268 174.972022 \nL 156.117943 173.834242 \nL 157.718619 172.696462 \nL 159.319294 171.558682 \nL 160.91997 170.420901 \nL 162.520645 169.283121 \nL 164.121321 168.145341 \nL 165.721996 167.007561 \nL 167.322672 165.869781 \nL 168.923347 164.732 \nL 170.524023 163.59422 \nL 172.124698 162.45644 \nL 173.725374 161.31866 \nL 175.326049 160.180879 \nL 176.926725 159.043099 \nL 178.5274 157.905319 \nL 180.128076 156.767539 \nL 181.728751 155.629758 \nL 183.329427 154.491978 \nL 184.930102 153.354198 \nL 186.530778 152.216418 \nL 188.131453 151.078638 \nL 189.732129 149.940857 \nL 191.332804 148.803077 \nL 192.93348 147.665297 \nL 194.534155 146.527517 \nL 196.134831 145.389736 \nL 197.735506 144.251956 \nL 199.336182 143.114176 \nL 200.936857 141.976396 \nL 202.537533 140.838616 \nL 204.138208 139.700835 \nL 205.738884 138.563055 \nL 207.339559 137.425275 \nL 208.940235 136.287495 \nL 210.54091 135.149714 \nL 212.141586 134.011934 \nL 213.742261 132.874154 \nL 215.342937 131.736374 \nL 216.943612 130.598593 \nL 218.544288 129.460813 \nL 220.144963 128.323033 \nL 221.745639 127.185253 \nL 223.346314 126.047473 \nL 224.94699 124.909692 \nL 226.547665 123.771912 \nL 228.148341 122.634132 \nL 229.749016 121.496352 \nL 231.349692 120.358571 \nL 232.950367 119.220791 \nL 234.551043 118.083011 \nL 236.151718 116.945231 \nL 237.752394 115.807451 \nL 239.353069 114.66967 \nL 240.953745 113.53189 \nL 242.55442 112.39411 \nL 244.155096 111.25633 \nL 245.755771 110.118549 \nL 247.356447 108.980769 \nL 248.957122 107.842989 \nL 250.557798 106.705209 \nL 252.158473 105.567428 \nL 253.759149 104.429648 \nL 255.359824 103.291868 \nL 256.9605 102.154088 \n\" clip-path=\"url(#pcbaa30b19b)\" style=\"fill: none; stroke: #a30905; stroke-opacity: 0.5; stroke-width: 5; stroke-linecap: round\"/>\n   </g>\n   <g id=\"patch_3\">\n    <path d=\"M 66.80025 268.456625 \nL 66.80025 29.612625 \n\" style=\"fill: none; stroke: #262626; stroke-width: 1.25; stroke-linejoin: miter; stroke-linecap: square\"/>\n   </g>\n   <g id=\"patch_4\">\n    <path d=\"M 66.80025 268.456625 \nL 383.734 268.456625 \n\" style=\"fill: none; stroke: #262626; stroke-width: 1.25; stroke-linejoin: miter; stroke-linecap: square\"/>\n   </g>\n   <g id=\"text_16\">\n    <!-- dataset = I -->\n    <g style=\"fill: #262626\" transform=\"translate(165.333875 23.612625) scale(0.216 -0.216)\">\n     <defs>\n      <path id=\"DejaVuSans-64\" d=\"M 2906 2969 \nL 2906 4863 \nL 3481 4863 \nL 3481 0 \nL 2906 0 \nL 2906 525 \nQ 2725 213 2448 61 \nQ 2172 -91 1784 -91 \nQ 1150 -91 751 415 \nQ 353 922 353 1747 \nQ 353 2572 751 3078 \nQ 1150 3584 1784 3584 \nQ 2172 3584 2448 3432 \nQ 2725 3281 2906 2969 \nz\nM 947 1747 \nQ 947 1113 1208 752 \nQ 1469 391 1925 391 \nQ 2381 391 2643 752 \nQ 2906 1113 2906 1747 \nQ 2906 2381 2643 2742 \nQ 2381 3103 1925 3103 \nQ 1469 3103 1208 2742 \nQ 947 2381 947 1747 \nz\n\" transform=\"scale(0.015625)\"/>\n      <path id=\"DejaVuSans-61\" d=\"M 2194 1759 \nQ 1497 1759 1228 1600 \nQ 959 1441 959 1056 \nQ 959 750 1161 570 \nQ 1363 391 1709 391 \nQ 2188 391 2477 730 \nQ 2766 1069 2766 1631 \nL 2766 1759 \nL 2194 1759 \nz\nM 3341 1997 \nL 3341 0 \nL 2766 0 \nL 2766 531 \nQ 2569 213 2275 61 \nQ 1981 -91 1556 -91 \nQ 1019 -91 701 211 \nQ 384 513 384 1019 \nQ 384 1609 779 1909 \nQ 1175 2209 1959 2209 \nL 2766 2209 \nL 2766 2266 \nQ 2766 2663 2505 2880 \nQ 2244 3097 1772 3097 \nQ 1472 3097 1187 3025 \nQ 903 2953 641 2809 \nL 641 3341 \nQ 956 3463 1253 3523 \nQ 1550 3584 1831 3584 \nQ 2591 3584 2966 3190 \nQ 3341 2797 3341 1997 \nz\n\" transform=\"scale(0.015625)\"/>\n      <path id=\"DejaVuSans-74\" d=\"M 1172 4494 \nL 1172 3500 \nL 2356 3500 \nL 2356 3053 \nL 1172 3053 \nL 1172 1153 \nQ 1172 725 1289 603 \nQ 1406 481 1766 481 \nL 2356 481 \nL 2356 0 \nL 1766 0 \nQ 1100 0 847 248 \nQ 594 497 594 1153 \nL 594 3053 \nL 172 3053 \nL 172 3500 \nL 594 3500 \nL 594 4494 \nL 1172 4494 \nz\n\" transform=\"scale(0.015625)\"/>\n      <path id=\"DejaVuSans-73\" d=\"M 2834 3397 \nL 2834 2853 \nQ 2591 2978 2328 3040 \nQ 2066 3103 1784 3103 \nQ 1356 3103 1142 2972 \nQ 928 2841 928 2578 \nQ 928 2378 1081 2264 \nQ 1234 2150 1697 2047 \nL 1894 2003 \nQ 2506 1872 2764 1633 \nQ 3022 1394 3022 966 \nQ 3022 478 2636 193 \nQ 2250 -91 1575 -91 \nQ 1294 -91 989 -36 \nQ 684 19 347 128 \nL 347 722 \nQ 666 556 975 473 \nQ 1284 391 1588 391 \nQ 1994 391 2212 530 \nQ 2431 669 2431 922 \nQ 2431 1156 2273 1281 \nQ 2116 1406 1581 1522 \nL 1381 1569 \nQ 847 1681 609 1914 \nQ 372 2147 372 2553 \nQ 372 3047 722 3315 \nQ 1072 3584 1716 3584 \nQ 2034 3584 2315 3537 \nQ 2597 3491 2834 3397 \nz\n\" transform=\"scale(0.015625)\"/>\n      <path id=\"DejaVuSans-65\" d=\"M 3597 1894 \nL 3597 1613 \nL 953 1613 \nQ 991 1019 1311 708 \nQ 1631 397 2203 397 \nQ 2534 397 2845 478 \nQ 3156 559 3463 722 \nL 3463 178 \nQ 3153 47 2828 -22 \nQ 2503 -91 2169 -91 \nQ 1331 -91 842 396 \nQ 353 884 353 1716 \nQ 353 2575 817 3079 \nQ 1281 3584 2069 3584 \nQ 2775 3584 3186 3129 \nQ 3597 2675 3597 1894 \nz\nM 3022 2063 \nQ 3016 2534 2758 2815 \nQ 2500 3097 2075 3097 \nQ 1594 3097 1305 2825 \nQ 1016 2553 972 2059 \nL 3022 2063 \nz\n\" transform=\"scale(0.015625)\"/>\n      <path id=\"DejaVuSans-20\" transform=\"scale(0.015625)\"/>\n      <path id=\"DejaVuSans-3d\" d=\"M 678 2906 \nL 4684 2906 \nL 4684 2381 \nL 678 2381 \nL 678 2906 \nz\nM 678 1631 \nL 4684 1631 \nL 4684 1100 \nL 678 1100 \nL 678 1631 \nz\n\" transform=\"scale(0.015625)\"/>\n      <path id=\"DejaVuSans-49\" d=\"M 628 4666 \nL 1259 4666 \nL 1259 0 \nL 628 0 \nL 628 4666 \nz\n\" transform=\"scale(0.015625)\"/>\n     </defs>\n     <use xlink:href=\"#DejaVuSans-64\"/>\n     <use xlink:href=\"#DejaVuSans-61\" x=\"63.476562\"/>\n     <use xlink:href=\"#DejaVuSans-74\" x=\"124.755859\"/>\n     <use xlink:href=\"#DejaVuSans-61\" x=\"163.964844\"/>\n     <use xlink:href=\"#DejaVuSans-73\" x=\"225.244141\"/>\n     <use xlink:href=\"#DejaVuSans-65\" x=\"277.34375\"/>\n     <use xlink:href=\"#DejaVuSans-74\" x=\"338.867188\"/>\n     <use xlink:href=\"#DejaVuSans-20\" x=\"378.076172\"/>\n     <use xlink:href=\"#DejaVuSans-3d\" x=\"409.863281\"/>\n     <use xlink:href=\"#DejaVuSans-20\" x=\"493.652344\"/>\n     <use xlink:href=\"#DejaVuSans-49\" x=\"525.439453\"/>\n    </g>\n   </g>\n  </g>\n  <g id=\"axes_2\">\n   <g id=\"patch_5\">\n    <path d=\"M 407.062 268.456625 \nL 723.99575 268.456625 \nL 723.99575 29.612625 \nL 407.062 29.612625 \nz\n\" style=\"fill: #ffffff\"/>\n   </g>\n   <g id=\"matplotlib.axis_3\">\n    <g id=\"xtick_9\">\n     <g id=\"text_17\">\n      <!-- 2.5 -->\n      <g style=\"fill: #262626\" transform=\"translate(399.24125 293.001531) scale(0.198 -0.198)\">\n       <use xlink:href=\"#DejaVuSans-32\"/>\n       <use xlink:href=\"#DejaVuSans-2e\" x=\"63.623047\"/>\n       <use xlink:href=\"#DejaVuSans-35\" x=\"95.410156\"/>\n      </g>\n     </g>\n    </g>\n    <g id=\"xtick_10\">\n     <g id=\"text_18\">\n      <!-- 5.0 -->\n      <g style=\"fill: #262626\" transform=\"translate(438.857969 293.001531) scale(0.198 -0.198)\">\n       <use xlink:href=\"#DejaVuSans-35\"/>\n       <use xlink:href=\"#DejaVuSans-2e\" x=\"63.623047\"/>\n       <use xlink:href=\"#DejaVuSans-30\" x=\"95.410156\"/>\n      </g>\n     </g>\n    </g>\n    <g id=\"xtick_11\">\n     <g id=\"text_19\">\n      <!-- 7.5 -->\n      <g style=\"fill: #262626\" transform=\"translate(478.474687 293.001531) scale(0.198 -0.198)\">\n       <use xlink:href=\"#DejaVuSans-37\"/>\n       <use xlink:href=\"#DejaVuSans-2e\" x=\"63.623047\"/>\n       <use xlink:href=\"#DejaVuSans-35\" x=\"95.410156\"/>\n      </g>\n     </g>\n    </g>\n    <g id=\"xtick_12\">\n     <g id=\"text_20\">\n      <!-- 10.0 -->\n      <g style=\"fill: #262626\" transform=\"translate(511.792531 293.001531) scale(0.198 -0.198)\">\n       <use xlink:href=\"#DejaVuSans-31\"/>\n       <use xlink:href=\"#DejaVuSans-30\" x=\"63.623047\"/>\n       <use xlink:href=\"#DejaVuSans-2e\" x=\"127.246094\"/>\n       <use xlink:href=\"#DejaVuSans-30\" x=\"159.033203\"/>\n      </g>\n     </g>\n    </g>\n    <g id=\"xtick_13\">\n     <g id=\"text_21\">\n      <!-- 12.5 -->\n      <g style=\"fill: #262626\" transform=\"translate(551.40925 293.001531) scale(0.198 -0.198)\">\n       <use xlink:href=\"#DejaVuSans-31\"/>\n       <use xlink:href=\"#DejaVuSans-32\" x=\"63.623047\"/>\n       <use xlink:href=\"#DejaVuSans-2e\" x=\"127.246094\"/>\n       <use xlink:href=\"#DejaVuSans-35\" x=\"159.033203\"/>\n      </g>\n     </g>\n    </g>\n    <g id=\"xtick_14\">\n     <g id=\"text_22\">\n      <!-- 15.0 -->\n      <g style=\"fill: #262626\" transform=\"translate(591.025969 293.001531) scale(0.198 -0.198)\">\n       <use xlink:href=\"#DejaVuSans-31\"/>\n       <use xlink:href=\"#DejaVuSans-35\" x=\"63.623047\"/>\n       <use xlink:href=\"#DejaVuSans-2e\" x=\"127.246094\"/>\n       <use xlink:href=\"#DejaVuSans-30\" x=\"159.033203\"/>\n      </g>\n     </g>\n    </g>\n    <g id=\"xtick_15\">\n     <g id=\"text_23\">\n      <!-- 17.5 -->\n      <g style=\"fill: #262626\" transform=\"translate(630.642687 293.001531) scale(0.198 -0.198)\">\n       <use xlink:href=\"#DejaVuSans-31\"/>\n       <use xlink:href=\"#DejaVuSans-37\" x=\"63.623047\"/>\n       <use xlink:href=\"#DejaVuSans-2e\" x=\"127.246094\"/>\n       <use xlink:href=\"#DejaVuSans-35\" x=\"159.033203\"/>\n      </g>\n     </g>\n    </g>\n    <g id=\"xtick_16\">\n     <g id=\"text_24\">\n      <!-- 20.0 -->\n      <g style=\"fill: #262626\" transform=\"translate(670.259406 293.001531) scale(0.198 -0.198)\">\n       <use xlink:href=\"#DejaVuSans-32\"/>\n       <use xlink:href=\"#DejaVuSans-30\" x=\"63.623047\"/>\n       <use xlink:href=\"#DejaVuSans-2e\" x=\"127.246094\"/>\n       <use xlink:href=\"#DejaVuSans-30\" x=\"159.033203\"/>\n      </g>\n     </g>\n    </g>\n    <g id=\"text_25\">\n     <!-- x -->\n     <g style=\"fill: #262626\" transform=\"translate(559.136625 317.531937) scale(0.216 -0.216)\">\n      <use xlink:href=\"#DejaVuSans-78\"/>\n     </g>\n    </g>\n   </g>\n   <g id=\"matplotlib.axis_4\">\n    <g id=\"ytick_6\"/>\n    <g id=\"ytick_7\"/>\n    <g id=\"ytick_8\"/>\n    <g id=\"ytick_9\"/>\n    <g id=\"ytick_10\"/>\n   </g>\n   <g id=\"PathCollection_2\">\n    <g clip-path=\"url(#p7102e7b2d2)\">\n     <use xlink:href=\"#mc93d04505d\" x=\"533.8355\" y=\"121.555402\" style=\"fill: #0d62a3; fill-opacity: 0.8; stroke: #0d62a3; stroke-opacity: 0.8\"/>\n     <use xlink:href=\"#mc93d04505d\" x=\"502.142125\" y=\"144.079355\" style=\"fill: #0d62a3; fill-opacity: 0.8; stroke: #0d62a3; stroke-opacity: 0.8\"/>\n     <use xlink:href=\"#mc93d04505d\" x=\"581.375562\" y=\"130.564983\" style=\"fill: #0d62a3; fill-opacity: 0.8; stroke: #0d62a3; stroke-opacity: 0.8\"/>\n     <use xlink:href=\"#mc93d04505d\" x=\"517.988812\" y=\"129.889265\" style=\"fill: #0d62a3; fill-opacity: 0.8; stroke: #0d62a3; stroke-opacity: 0.8\"/>\n     <use xlink:href=\"#mc93d04505d\" x=\"549.682187\" y=\"118.852528\" style=\"fill: #0d62a3; fill-opacity: 0.8; stroke: #0d62a3; stroke-opacity: 0.8\"/>\n     <use xlink:href=\"#mc93d04505d\" x=\"597.22225\" y=\"144.980313\" style=\"fill: #0d62a3; fill-opacity: 0.8; stroke: #0d62a3; stroke-opacity: 0.8\"/>\n     <use xlink:href=\"#mc93d04505d\" x=\"470.44875\" y=\"189.352501\" style=\"fill: #0d62a3; fill-opacity: 0.8; stroke: #0d62a3; stroke-opacity: 0.8\"/>\n     <use xlink:href=\"#mc93d04505d\" x=\"438.755375\" y=\"257.60008\" style=\"fill: #0d62a3; fill-opacity: 0.8; stroke: #0d62a3; stroke-opacity: 0.8\"/>\n     <use xlink:href=\"#mc93d04505d\" x=\"565.528875\" y=\"121.780642\" style=\"fill: #0d62a3; fill-opacity: 0.8; stroke: #0d62a3; stroke-opacity: 0.8\"/>\n     <use xlink:href=\"#mc93d04505d\" x=\"486.295437\" y=\"163.900434\" style=\"fill: #0d62a3; fill-opacity: 0.8; stroke: #0d62a3; stroke-opacity: 0.8\"/>\n     <use xlink:href=\"#mc93d04505d\" x=\"454.602062\" y=\"220.660796\" style=\"fill: #0d62a3; fill-opacity: 0.8; stroke: #0d62a3; stroke-opacity: 0.8\"/>\n    </g>\n   </g>\n   <g id=\"line2d_2\">\n    <path d=\"M 438.755375 214.784092 \nL 440.356051 213.646519 \nL 441.956726 212.508945 \nL 443.557402 211.371372 \nL 445.158077 210.233799 \nL 446.758753 209.096225 \nL 448.359428 207.958652 \nL 449.960104 206.821078 \nL 451.560779 205.683505 \nL 453.161455 204.545932 \nL 454.76213 203.408358 \nL 456.362806 202.270785 \nL 457.963481 201.133211 \nL 459.564157 199.995638 \nL 461.164832 198.858065 \nL 462.765508 197.720491 \nL 464.366183 196.582918 \nL 465.966859 195.445344 \nL 467.567534 194.307771 \nL 469.16821 193.170198 \nL 470.768885 192.032624 \nL 472.369561 190.895051 \nL 473.970236 189.757477 \nL 475.570912 188.619904 \nL 477.171587 187.482331 \nL 478.772263 186.344757 \nL 480.372938 185.207184 \nL 481.973614 184.06961 \nL 483.574289 182.932037 \nL 485.174965 181.794464 \nL 486.77564 180.65689 \nL 488.376316 179.519317 \nL 489.976991 178.381743 \nL 491.577667 177.24417 \nL 493.178342 176.106597 \nL 494.779018 174.969023 \nL 496.379693 173.83145 \nL 497.980369 172.693876 \nL 499.581044 171.556303 \nL 501.18172 170.41873 \nL 502.782395 169.281156 \nL 504.383071 168.143583 \nL 505.983746 167.006009 \nL 507.584422 165.868436 \nL 509.185097 164.730863 \nL 510.785773 163.593289 \nL 512.386448 162.455716 \nL 513.987124 161.318143 \nL 515.587799 160.180569 \nL 517.188475 159.042996 \nL 518.78915 157.905422 \nL 520.389826 156.767849 \nL 521.990501 155.630276 \nL 523.591177 154.492702 \nL 525.191852 153.355129 \nL 526.792528 152.217555 \nL 528.393203 151.079982 \nL 529.993879 149.942409 \nL 531.594554 148.804835 \nL 533.19523 147.667262 \nL 534.795905 146.529688 \nL 536.396581 145.392115 \nL 537.997256 144.254542 \nL 539.597932 143.116968 \nL 541.198607 141.979395 \nL 542.799283 140.841821 \nL 544.399958 139.704248 \nL 546.000634 138.566675 \nL 547.601309 137.429101 \nL 549.201985 136.291528 \nL 550.80266 135.153954 \nL 552.403336 134.016381 \nL 554.004011 132.878808 \nL 555.604687 131.741234 \nL 557.205362 130.603661 \nL 558.806038 129.466087 \nL 560.406713 128.328514 \nL 562.007389 127.190941 \nL 563.608064 126.053367 \nL 565.20874 124.915794 \nL 566.809415 123.77822 \nL 568.410091 122.640647 \nL 570.010766 121.503074 \nL 571.611442 120.3655 \nL 573.212117 119.227927 \nL 574.812793 118.090354 \nL 576.413468 116.95278 \nL 578.014144 115.815207 \nL 579.614819 114.677633 \nL 581.215495 113.54006 \nL 582.81617 112.402487 \nL 584.416846 111.264913 \nL 586.017521 110.12734 \nL 587.618197 108.989766 \nL 589.218872 107.852193 \nL 590.819548 106.71462 \nL 592.420223 105.577046 \nL 594.020899 104.439473 \nL 595.621574 103.301899 \nL 597.22225 102.164326 \n\" clip-path=\"url(#p7102e7b2d2)\" style=\"fill: none; stroke: #a30905; stroke-opacity: 0.5; stroke-width: 5; stroke-linecap: round\"/>\n   </g>\n   <g id=\"patch_6\">\n    <path d=\"M 407.062 268.456625 \nL 407.062 29.612625 \n\" style=\"fill: none; stroke: #262626; stroke-width: 1.25; stroke-linejoin: miter; stroke-linecap: square\"/>\n   </g>\n   <g id=\"patch_7\">\n    <path d=\"M 407.062 268.456625 \nL 723.99575 268.456625 \n\" style=\"fill: none; stroke: #262626; stroke-width: 1.25; stroke-linejoin: miter; stroke-linecap: square\"/>\n   </g>\n   <g id=\"text_26\">\n    <!-- dataset = II -->\n    <g style=\"fill: #262626\" transform=\"translate(502.409625 23.612625) scale(0.216 -0.216)\">\n     <use xlink:href=\"#DejaVuSans-64\"/>\n     <use xlink:href=\"#DejaVuSans-61\" x=\"63.476562\"/>\n     <use xlink:href=\"#DejaVuSans-74\" x=\"124.755859\"/>\n     <use xlink:href=\"#DejaVuSans-61\" x=\"163.964844\"/>\n     <use xlink:href=\"#DejaVuSans-73\" x=\"225.244141\"/>\n     <use xlink:href=\"#DejaVuSans-65\" x=\"277.34375\"/>\n     <use xlink:href=\"#DejaVuSans-74\" x=\"338.867188\"/>\n     <use xlink:href=\"#DejaVuSans-20\" x=\"378.076172\"/>\n     <use xlink:href=\"#DejaVuSans-3d\" x=\"409.863281\"/>\n     <use xlink:href=\"#DejaVuSans-20\" x=\"493.652344\"/>\n     <use xlink:href=\"#DejaVuSans-49\" x=\"525.439453\"/>\n     <use xlink:href=\"#DejaVuSans-49\" x=\"554.931641\"/>\n    </g>\n   </g>\n  </g>\n  <g id=\"axes_3\">\n   <g id=\"patch_8\">\n    <path d=\"M 747.32375 268.456625 \nL 1064.2575 268.456625 \nL 1064.2575 29.612625 \nL 747.32375 29.612625 \nz\n\" style=\"fill: #ffffff\"/>\n   </g>\n   <g id=\"matplotlib.axis_5\">\n    <g id=\"xtick_17\">\n     <g id=\"text_27\">\n      <!-- 2.5 -->\n      <g style=\"fill: #262626\" transform=\"translate(739.503 293.001531) scale(0.198 -0.198)\">\n       <use xlink:href=\"#DejaVuSans-32\"/>\n       <use xlink:href=\"#DejaVuSans-2e\" x=\"63.623047\"/>\n       <use xlink:href=\"#DejaVuSans-35\" x=\"95.410156\"/>\n      </g>\n     </g>\n    </g>\n    <g id=\"xtick_18\">\n     <g id=\"text_28\">\n      <!-- 5.0 -->\n      <g style=\"fill: #262626\" transform=\"translate(779.119719 293.001531) scale(0.198 -0.198)\">\n       <use xlink:href=\"#DejaVuSans-35\"/>\n       <use xlink:href=\"#DejaVuSans-2e\" x=\"63.623047\"/>\n       <use xlink:href=\"#DejaVuSans-30\" x=\"95.410156\"/>\n      </g>\n     </g>\n    </g>\n    <g id=\"xtick_19\">\n     <g id=\"text_29\">\n      <!-- 7.5 -->\n      <g style=\"fill: #262626\" transform=\"translate(818.736437 293.001531) scale(0.198 -0.198)\">\n       <use xlink:href=\"#DejaVuSans-37\"/>\n       <use xlink:href=\"#DejaVuSans-2e\" x=\"63.623047\"/>\n       <use xlink:href=\"#DejaVuSans-35\" x=\"95.410156\"/>\n      </g>\n     </g>\n    </g>\n    <g id=\"xtick_20\">\n     <g id=\"text_30\">\n      <!-- 10.0 -->\n      <g style=\"fill: #262626\" transform=\"translate(852.054281 293.001531) scale(0.198 -0.198)\">\n       <use xlink:href=\"#DejaVuSans-31\"/>\n       <use xlink:href=\"#DejaVuSans-30\" x=\"63.623047\"/>\n       <use xlink:href=\"#DejaVuSans-2e\" x=\"127.246094\"/>\n       <use xlink:href=\"#DejaVuSans-30\" x=\"159.033203\"/>\n      </g>\n     </g>\n    </g>\n    <g id=\"xtick_21\">\n     <g id=\"text_31\">\n      <!-- 12.5 -->\n      <g style=\"fill: #262626\" transform=\"translate(891.671 293.001531) scale(0.198 -0.198)\">\n       <use xlink:href=\"#DejaVuSans-31\"/>\n       <use xlink:href=\"#DejaVuSans-32\" x=\"63.623047\"/>\n       <use xlink:href=\"#DejaVuSans-2e\" x=\"127.246094\"/>\n       <use xlink:href=\"#DejaVuSans-35\" x=\"159.033203\"/>\n      </g>\n     </g>\n    </g>\n    <g id=\"xtick_22\">\n     <g id=\"text_32\">\n      <!-- 15.0 -->\n      <g style=\"fill: #262626\" transform=\"translate(931.287719 293.001531) scale(0.198 -0.198)\">\n       <use xlink:href=\"#DejaVuSans-31\"/>\n       <use xlink:href=\"#DejaVuSans-35\" x=\"63.623047\"/>\n       <use xlink:href=\"#DejaVuSans-2e\" x=\"127.246094\"/>\n       <use xlink:href=\"#DejaVuSans-30\" x=\"159.033203\"/>\n      </g>\n     </g>\n    </g>\n    <g id=\"xtick_23\">\n     <g id=\"text_33\">\n      <!-- 17.5 -->\n      <g style=\"fill: #262626\" transform=\"translate(970.904437 293.001531) scale(0.198 -0.198)\">\n       <use xlink:href=\"#DejaVuSans-31\"/>\n       <use xlink:href=\"#DejaVuSans-37\" x=\"63.623047\"/>\n       <use xlink:href=\"#DejaVuSans-2e\" x=\"127.246094\"/>\n       <use xlink:href=\"#DejaVuSans-35\" x=\"159.033203\"/>\n      </g>\n     </g>\n    </g>\n    <g id=\"xtick_24\">\n     <g id=\"text_34\">\n      <!-- 20.0 -->\n      <g style=\"fill: #262626\" transform=\"translate(1010.521156 293.001531) scale(0.198 -0.198)\">\n       <use xlink:href=\"#DejaVuSans-32\"/>\n       <use xlink:href=\"#DejaVuSans-30\" x=\"63.623047\"/>\n       <use xlink:href=\"#DejaVuSans-2e\" x=\"127.246094\"/>\n       <use xlink:href=\"#DejaVuSans-30\" x=\"159.033203\"/>\n      </g>\n     </g>\n    </g>\n    <g id=\"text_35\">\n     <!-- x -->\n     <g style=\"fill: #262626\" transform=\"translate(899.398375 317.531937) scale(0.216 -0.216)\">\n      <use xlink:href=\"#DejaVuSans-78\"/>\n     </g>\n    </g>\n   </g>\n   <g id=\"matplotlib.axis_6\">\n    <g id=\"ytick_11\"/>\n    <g id=\"ytick_12\"/>\n    <g id=\"ytick_13\"/>\n    <g id=\"ytick_14\"/>\n    <g id=\"ytick_15\"/>\n   </g>\n   <g id=\"PathCollection_3\">\n    <g clip-path=\"url(#p7913b70062)\">\n     <use xlink:href=\"#mc93d04505d\" x=\"874.09725\" y=\"159.395643\" style=\"fill: #0d62a3; fill-opacity: 0.8; stroke: #0d62a3; stroke-opacity: 0.8\"/>\n     <use xlink:href=\"#mc93d04505d\" x=\"842.403875\" y=\"174.937171\" style=\"fill: #0d62a3; fill-opacity: 0.8; stroke: #0d62a3; stroke-opacity: 0.8\"/>\n     <use xlink:href=\"#mc93d04505d\" x=\"921.637313\" y=\"40.46917\" style=\"fill: #0d62a3; fill-opacity: 0.8; stroke: #0d62a3; stroke-opacity: 0.8\"/>\n     <use xlink:href=\"#mc93d04505d\" x=\"858.250563\" y=\"167.279027\" style=\"fill: #0d62a3; fill-opacity: 0.8; stroke: #0d62a3; stroke-opacity: 0.8\"/>\n     <use xlink:href=\"#mc93d04505d\" x=\"889.943937\" y=\"151.51226\" style=\"fill: #0d62a3; fill-opacity: 0.8; stroke: #0d62a3; stroke-opacity: 0.8\"/>\n     <use xlink:href=\"#mc93d04505d\" x=\"937.484\" y=\"128.312588\" style=\"fill: #0d62a3; fill-opacity: 0.8; stroke: #0d62a3; stroke-opacity: 0.8\"/>\n     <use xlink:href=\"#mc93d04505d\" x=\"810.7105\" y=\"190.478699\" style=\"fill: #0d62a3; fill-opacity: 0.8; stroke: #0d62a3; stroke-opacity: 0.8\"/>\n     <use xlink:href=\"#mc93d04505d\" x=\"779.017125\" y=\"206.020227\" style=\"fill: #0d62a3; fill-opacity: 0.8; stroke: #0d62a3; stroke-opacity: 0.8\"/>\n     <use xlink:href=\"#mc93d04505d\" x=\"905.790625\" y=\"143.854116\" style=\"fill: #0d62a3; fill-opacity: 0.8; stroke: #0d62a3; stroke-opacity: 0.8\"/>\n     <use xlink:href=\"#mc93d04505d\" x=\"826.557187\" y=\"182.820555\" style=\"fill: #0d62a3; fill-opacity: 0.8; stroke: #0d62a3; stroke-opacity: 0.8\"/>\n     <use xlink:href=\"#mc93d04505d\" x=\"794.863812\" y=\"198.362083\" style=\"fill: #0d62a3; fill-opacity: 0.8; stroke: #0d62a3; stroke-opacity: 0.8\"/>\n    </g>\n   </g>\n   <g id=\"line2d_3\">\n    <path d=\"M 779.017125 214.773854 \nL 780.617801 213.636901 \nL 782.218476 212.499948 \nL 783.819152 211.362995 \nL 785.419827 210.226042 \nL 787.020503 209.089089 \nL 788.621178 207.952137 \nL 790.221854 206.815184 \nL 791.822529 205.678231 \nL 793.423205 204.541278 \nL 795.02388 203.404325 \nL 796.624556 202.267372 \nL 798.225231 201.130419 \nL 799.825907 199.993466 \nL 801.426582 198.856513 \nL 803.027258 197.71956 \nL 804.627933 196.582608 \nL 806.228609 195.445655 \nL 807.829284 194.308702 \nL 809.42996 193.171749 \nL 811.030635 192.034796 \nL 812.631311 190.897843 \nL 814.231986 189.76089 \nL 815.832662 188.623937 \nL 817.433337 187.486984 \nL 819.034013 186.350031 \nL 820.634688 185.213079 \nL 822.235364 184.076126 \nL 823.836039 182.939173 \nL 825.436715 181.80222 \nL 827.03739 180.665267 \nL 828.638066 179.528314 \nL 830.238741 178.391361 \nL 831.839417 177.254408 \nL 833.440092 176.117455 \nL 835.040768 174.980502 \nL 836.641443 173.84355 \nL 838.242119 172.706597 \nL 839.842794 171.569644 \nL 841.44347 170.432691 \nL 843.044145 169.295738 \nL 844.644821 168.158785 \nL 846.245496 167.021832 \nL 847.846172 165.884879 \nL 849.446847 164.747926 \nL 851.047523 163.610973 \nL 852.648198 162.474021 \nL 854.248874 161.337068 \nL 855.849549 160.200115 \nL 857.450225 159.063162 \nL 859.0509 157.926209 \nL 860.651576 156.789256 \nL 862.252251 155.652303 \nL 863.852927 154.51535 \nL 865.453602 153.378397 \nL 867.054278 152.241444 \nL 868.654953 151.104492 \nL 870.255629 149.967539 \nL 871.856304 148.830586 \nL 873.45698 147.693633 \nL 875.057655 146.55668 \nL 876.658331 145.419727 \nL 878.259006 144.282774 \nL 879.859682 143.145821 \nL 881.460357 142.008868 \nL 883.061033 140.871915 \nL 884.661708 139.734962 \nL 886.262384 138.59801 \nL 887.863059 137.461057 \nL 889.463735 136.324104 \nL 891.06441 135.187151 \nL 892.665086 134.050198 \nL 894.265761 132.913245 \nL 895.866437 131.776292 \nL 897.467112 130.639339 \nL 899.067788 129.502386 \nL 900.668463 128.365433 \nL 902.269139 127.228481 \nL 903.869814 126.091528 \nL 905.47049 124.954575 \nL 907.071165 123.817622 \nL 908.671841 122.680669 \nL 910.272516 121.543716 \nL 911.873192 120.406763 \nL 913.473867 119.26981 \nL 915.074543 118.132857 \nL 916.675218 116.995904 \nL 918.275894 115.858952 \nL 919.876569 114.721999 \nL 921.477245 113.585046 \nL 923.07792 112.448093 \nL 924.678596 111.31114 \nL 926.279271 110.174187 \nL 927.879947 109.037234 \nL 929.480622 107.900281 \nL 931.081298 106.763328 \nL 932.681973 105.626375 \nL 934.282649 104.489423 \nL 935.883324 103.35247 \nL 937.484 102.215517 \n\" clip-path=\"url(#p7913b70062)\" style=\"fill: none; stroke: #a30905; stroke-opacity: 0.5; stroke-width: 5; stroke-linecap: round\"/>\n   </g>\n   <g id=\"patch_9\">\n    <path d=\"M 747.32375 268.456625 \nL 747.32375 29.612625 \n\" style=\"fill: none; stroke: #262626; stroke-width: 1.25; stroke-linejoin: miter; stroke-linecap: square\"/>\n   </g>\n   <g id=\"patch_10\">\n    <path d=\"M 747.32375 268.456625 \nL 1064.2575 268.456625 \n\" style=\"fill: none; stroke: #262626; stroke-width: 1.25; stroke-linejoin: miter; stroke-linecap: square\"/>\n   </g>\n   <g id=\"text_36\">\n    <!-- dataset = III -->\n    <g style=\"fill: #262626\" transform=\"translate(839.485375 23.612625) scale(0.216 -0.216)\">\n     <use xlink:href=\"#DejaVuSans-64\"/>\n     <use xlink:href=\"#DejaVuSans-61\" x=\"63.476562\"/>\n     <use xlink:href=\"#DejaVuSans-74\" x=\"124.755859\"/>\n     <use xlink:href=\"#DejaVuSans-61\" x=\"163.964844\"/>\n     <use xlink:href=\"#DejaVuSans-73\" x=\"225.244141\"/>\n     <use xlink:href=\"#DejaVuSans-65\" x=\"277.34375\"/>\n     <use xlink:href=\"#DejaVuSans-74\" x=\"338.867188\"/>\n     <use xlink:href=\"#DejaVuSans-20\" x=\"378.076172\"/>\n     <use xlink:href=\"#DejaVuSans-3d\" x=\"409.863281\"/>\n     <use xlink:href=\"#DejaVuSans-20\" x=\"493.652344\"/>\n     <use xlink:href=\"#DejaVuSans-49\" x=\"525.439453\"/>\n     <use xlink:href=\"#DejaVuSans-49\" x=\"554.931641\"/>\n     <use xlink:href=\"#DejaVuSans-49\" x=\"584.423828\"/>\n    </g>\n   </g>\n  </g>\n  <g id=\"axes_4\">\n   <g id=\"patch_11\">\n    <path d=\"M 1087.5855 268.456625 \nL 1404.51925 268.456625 \nL 1404.51925 29.612625 \nL 1087.5855 29.612625 \nz\n\" style=\"fill: #ffffff\"/>\n   </g>\n   <g id=\"matplotlib.axis_7\">\n    <g id=\"xtick_25\">\n     <g id=\"text_37\">\n      <!-- 2.5 -->\n      <g style=\"fill: #262626\" transform=\"translate(1079.76475 293.001531) scale(0.198 -0.198)\">\n       <use xlink:href=\"#DejaVuSans-32\"/>\n       <use xlink:href=\"#DejaVuSans-2e\" x=\"63.623047\"/>\n       <use xlink:href=\"#DejaVuSans-35\" x=\"95.410156\"/>\n      </g>\n     </g>\n    </g>\n    <g id=\"xtick_26\">\n     <g id=\"text_38\">\n      <!-- 5.0 -->\n      <g style=\"fill: #262626\" transform=\"translate(1119.381469 293.001531) scale(0.198 -0.198)\">\n       <use xlink:href=\"#DejaVuSans-35\"/>\n       <use xlink:href=\"#DejaVuSans-2e\" x=\"63.623047\"/>\n       <use xlink:href=\"#DejaVuSans-30\" x=\"95.410156\"/>\n      </g>\n     </g>\n    </g>\n    <g id=\"xtick_27\">\n     <g id=\"text_39\">\n      <!-- 7.5 -->\n      <g style=\"fill: #262626\" transform=\"translate(1158.998187 293.001531) scale(0.198 -0.198)\">\n       <use xlink:href=\"#DejaVuSans-37\"/>\n       <use xlink:href=\"#DejaVuSans-2e\" x=\"63.623047\"/>\n       <use xlink:href=\"#DejaVuSans-35\" x=\"95.410156\"/>\n      </g>\n     </g>\n    </g>\n    <g id=\"xtick_28\">\n     <g id=\"text_40\">\n      <!-- 10.0 -->\n      <g style=\"fill: #262626\" transform=\"translate(1192.316031 293.001531) scale(0.198 -0.198)\">\n       <use xlink:href=\"#DejaVuSans-31\"/>\n       <use xlink:href=\"#DejaVuSans-30\" x=\"63.623047\"/>\n       <use xlink:href=\"#DejaVuSans-2e\" x=\"127.246094\"/>\n       <use xlink:href=\"#DejaVuSans-30\" x=\"159.033203\"/>\n      </g>\n     </g>\n    </g>\n    <g id=\"xtick_29\">\n     <g id=\"text_41\">\n      <!-- 12.5 -->\n      <g style=\"fill: #262626\" transform=\"translate(1231.93275 293.001531) scale(0.198 -0.198)\">\n       <use xlink:href=\"#DejaVuSans-31\"/>\n       <use xlink:href=\"#DejaVuSans-32\" x=\"63.623047\"/>\n       <use xlink:href=\"#DejaVuSans-2e\" x=\"127.246094\"/>\n       <use xlink:href=\"#DejaVuSans-35\" x=\"159.033203\"/>\n      </g>\n     </g>\n    </g>\n    <g id=\"xtick_30\">\n     <g id=\"text_42\">\n      <!-- 15.0 -->\n      <g style=\"fill: #262626\" transform=\"translate(1271.549469 293.001531) scale(0.198 -0.198)\">\n       <use xlink:href=\"#DejaVuSans-31\"/>\n       <use xlink:href=\"#DejaVuSans-35\" x=\"63.623047\"/>\n       <use xlink:href=\"#DejaVuSans-2e\" x=\"127.246094\"/>\n       <use xlink:href=\"#DejaVuSans-30\" x=\"159.033203\"/>\n      </g>\n     </g>\n    </g>\n    <g id=\"xtick_31\">\n     <g id=\"text_43\">\n      <!-- 17.5 -->\n      <g style=\"fill: #262626\" transform=\"translate(1311.166187 293.001531) scale(0.198 -0.198)\">\n       <use xlink:href=\"#DejaVuSans-31\"/>\n       <use xlink:href=\"#DejaVuSans-37\" x=\"63.623047\"/>\n       <use xlink:href=\"#DejaVuSans-2e\" x=\"127.246094\"/>\n       <use xlink:href=\"#DejaVuSans-35\" x=\"159.033203\"/>\n      </g>\n     </g>\n    </g>\n    <g id=\"xtick_32\">\n     <g id=\"text_44\">\n      <!-- 20.0 -->\n      <g style=\"fill: #262626\" transform=\"translate(1350.782906 293.001531) scale(0.198 -0.198)\">\n       <use xlink:href=\"#DejaVuSans-32\"/>\n       <use xlink:href=\"#DejaVuSans-30\" x=\"63.623047\"/>\n       <use xlink:href=\"#DejaVuSans-2e\" x=\"127.246094\"/>\n       <use xlink:href=\"#DejaVuSans-30\" x=\"159.033203\"/>\n      </g>\n     </g>\n    </g>\n    <g id=\"text_45\">\n     <!-- x -->\n     <g style=\"fill: #262626\" transform=\"translate(1239.660125 317.531937) scale(0.216 -0.216)\">\n      <use xlink:href=\"#DejaVuSans-78\"/>\n     </g>\n    </g>\n   </g>\n   <g id=\"matplotlib.axis_8\">\n    <g id=\"ytick_16\"/>\n    <g id=\"ytick_17\"/>\n    <g id=\"ytick_18\"/>\n    <g id=\"ytick_19\"/>\n    <g id=\"ytick_20\"/>\n   </g>\n   <g id=\"PathCollection_4\">\n    <g clip-path=\"url(#pa5972318b0)\">\n     <use xlink:href=\"#mc93d04505d\" x=\"1182.665625\" y=\"179.216722\" style=\"fill: #0d62a3; fill-opacity: 0.8; stroke: #0d62a3; stroke-opacity: 0.8\"/>\n     <use xlink:href=\"#mc93d04505d\" x=\"1182.665625\" y=\"197.686364\" style=\"fill: #0d62a3; fill-opacity: 0.8; stroke: #0d62a3; stroke-opacity: 0.8\"/>\n     <use xlink:href=\"#mc93d04505d\" x=\"1182.665625\" y=\"153.764655\" style=\"fill: #0d62a3; fill-opacity: 0.8; stroke: #0d62a3; stroke-opacity: 0.8\"/>\n     <use xlink:href=\"#mc93d04505d\" x=\"1182.665625\" y=\"128.312588\" style=\"fill: #0d62a3; fill-opacity: 0.8; stroke: #0d62a3; stroke-opacity: 0.8\"/>\n     <use xlink:href=\"#mc93d04505d\" x=\"1182.665625\" y=\"136.646451\" style=\"fill: #0d62a3; fill-opacity: 0.8; stroke: #0d62a3; stroke-opacity: 0.8\"/>\n     <use xlink:href=\"#mc93d04505d\" x=\"1182.665625\" y=\"168.855704\" style=\"fill: #0d62a3; fill-opacity: 0.8; stroke: #0d62a3; stroke-opacity: 0.8\"/>\n     <use xlink:href=\"#mc93d04505d\" x=\"1182.665625\" y=\"209.17358\" style=\"fill: #0d62a3; fill-opacity: 0.8; stroke: #0d62a3; stroke-opacity: 0.8\"/>\n     <use xlink:href=\"#mc93d04505d\" x=\"1356.979187\" y=\"45.874919\" style=\"fill: #0d62a3; fill-opacity: 0.8; stroke: #0d62a3; stroke-opacity: 0.8\"/>\n     <use xlink:href=\"#mc93d04505d\" x=\"1182.665625\" y=\"202.191155\" style=\"fill: #0d62a3; fill-opacity: 0.8; stroke: #0d62a3; stroke-opacity: 0.8\"/>\n     <use xlink:href=\"#mc93d04505d\" x=\"1182.665625\" y=\"149.259865\" style=\"fill: #0d62a3; fill-opacity: 0.8; stroke: #0d62a3; stroke-opacity: 0.8\"/>\n     <use xlink:href=\"#mc93d04505d\" x=\"1182.665625\" y=\"172.234297\" style=\"fill: #0d62a3; fill-opacity: 0.8; stroke: #0d62a3; stroke-opacity: 0.8\"/>\n    </g>\n   </g>\n   <g id=\"line2d_4\">\n    <path d=\"M 1182.665625 169.734138 \nL 1184.426368 168.483035 \nL 1186.187111 167.231932 \nL 1187.947854 165.980828 \nL 1189.708597 164.729725 \nL 1191.46934 163.478622 \nL 1193.230083 162.227519 \nL 1194.990826 160.976415 \nL 1196.751569 159.725312 \nL 1198.512312 158.474209 \nL 1200.273056 157.223106 \nL 1202.033799 155.972003 \nL 1203.794542 154.720899 \nL 1205.555285 153.469796 \nL 1207.316028 152.218693 \nL 1209.076771 150.96759 \nL 1210.837514 149.716486 \nL 1212.598257 148.465383 \nL 1214.359 147.21428 \nL 1216.119743 145.963177 \nL 1217.880486 144.712074 \nL 1219.641229 143.46097 \nL 1221.401972 142.209867 \nL 1223.162715 140.958764 \nL 1224.923458 139.707661 \nL 1226.684201 138.456558 \nL 1228.444944 137.205454 \nL 1230.205687 135.954351 \nL 1231.966431 134.703248 \nL 1233.727174 133.452145 \nL 1235.487917 132.201041 \nL 1237.24866 130.949938 \nL 1239.009403 129.698835 \nL 1240.770146 128.447732 \nL 1242.530889 127.196629 \nL 1244.291632 125.945525 \nL 1246.052375 124.694422 \nL 1247.813118 123.443319 \nL 1249.573861 122.192216 \nL 1251.334604 120.941112 \nL 1253.095347 119.690009 \nL 1254.85609 118.438906 \nL 1256.616833 117.187803 \nL 1258.377576 115.9367 \nL 1260.138319 114.685596 \nL 1261.899062 113.434493 \nL 1263.659806 112.18339 \nL 1265.420549 110.932287 \nL 1267.181292 109.681183 \nL 1268.942035 108.43008 \nL 1270.702778 107.178977 \nL 1272.463521 105.927874 \nL 1274.224264 104.676771 \nL 1275.985007 103.425667 \nL 1277.74575 102.174564 \nL 1279.506493 100.923461 \nL 1281.267236 99.672358 \nL 1283.027979 98.421254 \nL 1284.788722 97.170151 \nL 1286.549465 95.919048 \nL 1288.310208 94.667945 \nL 1290.070951 93.416842 \nL 1291.831694 92.165738 \nL 1293.592437 90.914635 \nL 1295.353181 89.663532 \nL 1297.113924 88.412429 \nL 1298.874667 87.161325 \nL 1300.63541 85.910222 \nL 1302.396153 84.659119 \nL 1304.156896 83.408016 \nL 1305.917639 82.156913 \nL 1307.678382 80.905809 \nL 1309.439125 79.654706 \nL 1311.199868 78.403603 \nL 1312.960611 77.1525 \nL 1314.721354 75.901397 \nL 1316.482097 74.650293 \nL 1318.24284 73.39919 \nL 1320.003583 72.148087 \nL 1321.764326 70.896984 \nL 1323.525069 69.64588 \nL 1325.285812 68.394777 \nL 1327.046556 67.143674 \nL 1328.807299 65.892571 \nL 1330.568042 64.641468 \nL 1332.328785 63.390364 \nL 1334.089528 62.139261 \nL 1335.850271 60.888158 \nL 1337.611014 59.637055 \nL 1339.371757 58.385951 \nL 1341.1325 57.134848 \nL 1342.893243 55.883745 \nL 1344.653986 54.632642 \nL 1346.414729 53.381539 \nL 1348.175472 52.130435 \nL 1349.936215 50.879332 \nL 1351.696958 49.628229 \nL 1353.457701 48.377126 \nL 1355.218444 47.126022 \nL 1356.979187 45.874919 \n\" clip-path=\"url(#pa5972318b0)\" style=\"fill: none; stroke: #a30905; stroke-opacity: 0.5; stroke-width: 5; stroke-linecap: round\"/>\n   </g>\n   <g id=\"patch_12\">\n    <path d=\"M 1087.5855 268.456625 \nL 1087.5855 29.612625 \n\" style=\"fill: none; stroke: #262626; stroke-width: 1.25; stroke-linejoin: miter; stroke-linecap: square\"/>\n   </g>\n   <g id=\"patch_13\">\n    <path d=\"M 1087.5855 268.456625 \nL 1404.51925 268.456625 \n\" style=\"fill: none; stroke: #262626; stroke-width: 1.25; stroke-linejoin: miter; stroke-linecap: square\"/>\n   </g>\n   <g id=\"text_46\">\n    <!-- dataset = IV -->\n    <g style=\"fill: #262626\" transform=\"translate(1178.73125 23.612625) scale(0.216 -0.216)\">\n     <defs>\n      <path id=\"DejaVuSans-56\" d=\"M 1831 0 \nL 50 4666 \nL 709 4666 \nL 2188 738 \nL 3669 4666 \nL 4325 4666 \nL 2547 0 \nL 1831 0 \nz\n\" transform=\"scale(0.015625)\"/>\n     </defs>\n     <use xlink:href=\"#DejaVuSans-64\"/>\n     <use xlink:href=\"#DejaVuSans-61\" x=\"63.476562\"/>\n     <use xlink:href=\"#DejaVuSans-74\" x=\"124.755859\"/>\n     <use xlink:href=\"#DejaVuSans-61\" x=\"163.964844\"/>\n     <use xlink:href=\"#DejaVuSans-73\" x=\"225.244141\"/>\n     <use xlink:href=\"#DejaVuSans-65\" x=\"277.34375\"/>\n     <use xlink:href=\"#DejaVuSans-74\" x=\"338.867188\"/>\n     <use xlink:href=\"#DejaVuSans-20\" x=\"378.076172\"/>\n     <use xlink:href=\"#DejaVuSans-3d\" x=\"409.863281\"/>\n     <use xlink:href=\"#DejaVuSans-20\" x=\"493.652344\"/>\n     <use xlink:href=\"#DejaVuSans-49\" x=\"525.439453\"/>\n     <use xlink:href=\"#DejaVuSans-56\" x=\"554.931641\"/>\n    </g>\n   </g>\n  </g>\n </g>\n <defs>\n  <clipPath id=\"pcbaa30b19b\">\n   <rect x=\"66.80025\" y=\"29.612625\" width=\"316.93375\" height=\"238.844\"/>\n  </clipPath>\n  <clipPath id=\"p7102e7b2d2\">\n   <rect x=\"407.062\" y=\"29.612625\" width=\"316.93375\" height=\"238.844\"/>\n  </clipPath>\n  <clipPath id=\"p7913b70062\">\n   <rect x=\"747.32375\" y=\"29.612625\" width=\"316.93375\" height=\"238.844\"/>\n  </clipPath>\n  <clipPath id=\"pa5972318b0\">\n   <rect x=\"1087.5855\" y=\"29.612625\" width=\"316.93375\" height=\"238.844\"/>\n  </clipPath>\n </defs>\n</svg>\n",
      "text/plain": [
       "<Figure size 1440x360 with 4 Axes>"
      ]
     },
     "metadata": {},
     "output_type": "display_data"
    }
   ],
   "source": [
    "with sns.plotting_context(\"notebook\", font_scale=1.8), sns.axes_style('white'):\n",
    "    g = sns.lmplot(\n",
    "        x=\"x\", y=\"y\", col=\"dataset\", data=quartet, ci=None,\n",
    "        scatter_kws={\"s\": 100, 'color': '#0D62A3'},\n",
    "        line_kws={'linewidth': 5, 'color': '#A30905', 'alpha': 0.5})\n",
    "    g.set(xlim=(2, 22))"
   ]
  },
  {
   "cell_type": "markdown",
   "metadata": {},
   "source": [
    "Now, that is interesting. Each of those looks entirely differently - let's think about how we could interpret each of those datasets after visual inspection:\n",
    "\n",
    " 1. resembles a typical linear relationship where the y variable is correlated with x (with a lot of Gaussian noise)\n",
    " 2. there is a clear correlation between variables but not a linear one\n",
    " 3. the relationship is evidently linear, with a single outlier (which is lowering the correlation coefficient from 1 to 0.816)\n",
    " 4. there does not seem to be a relationship between the two variables, however the outlier again skews the correlation coefficient significantly\n",
    "\n",
    "As you can see, according to the linear regression model parameters themselves those datasets look very similar, if not the same. It is only when we visualize them using a simple scatter plot we can see that those datasets differ significantly.\n",
    "\n",
    "In the next sections, we will explore different visualization methods that will help us in the analysis of different datasets."
   ]
  }
 ],
 "metadata": {
  "kernelspec": {
   "display_name": "Python 3.10.1 64-bit",
   "language": "python",
   "name": "python3"
  },
  "language_info": {
   "codemirror_mode": {
    "name": "ipython",
    "version": 3
   },
   "file_extension": ".py",
   "mimetype": "text/x-python",
   "name": "python",
   "nbconvert_exporter": "python",
   "pygments_lexer": "ipython3",
   "version": "3.10.1"
  },
  "vscode": {
   "interpreter": {
    "hash": "52634da84371cba311ea128a5ea7cdc41ff074b781779e754b270ff9f8153cee"
   }
  },
  "widgets": {
   "application/vnd.jupyter.widget-state+json": {
    "state": {},
    "version_major": 2,
    "version_minor": 0
   }
  }
 },
 "nbformat": 4,
 "nbformat_minor": 4
}
