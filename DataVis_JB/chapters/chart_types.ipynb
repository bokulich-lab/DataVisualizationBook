{
 "cells": [
  {
   "cell_type": "markdown",
   "metadata": {},
   "source": [
    "# 2. Chart Types"
   ]
  },
  {
   "cell_type": "code",
   "execution_count": 1,
   "metadata": {},
   "outputs": [
    {
     "name": "stdout",
     "output_type": "stream",
     "text": [
      "Requirement already up-to-date: seaborn in c:\\users\\doriela\\anaconda3\\lib\\site-packages (0.12.0)\n",
      "Requirement already satisfied, skipping upgrade: matplotlib>=3.1 in c:\\users\\doriela\\anaconda3\\lib\\site-packages (from seaborn) (3.1.3)\n",
      "Requirement already satisfied, skipping upgrade: typing_extensions; python_version < \"3.8\" in c:\\users\\doriela\\anaconda3\\lib\\site-packages (from seaborn) (4.3.0)\n",
      "Requirement already satisfied, skipping upgrade: pandas>=0.25 in c:\\users\\doriela\\anaconda3\\lib\\site-packages (from seaborn) (1.0.1)\n",
      "Requirement already satisfied, skipping upgrade: numpy>=1.17 in c:\\users\\doriela\\anaconda3\\lib\\site-packages (from seaborn) (1.18.1)\n",
      "Requirement already satisfied, skipping upgrade: cycler>=0.10 in c:\\users\\doriela\\anaconda3\\lib\\site-packages (from matplotlib>=3.1->seaborn) (0.10.0)\n",
      "Requirement already satisfied, skipping upgrade: kiwisolver>=1.0.1 in c:\\users\\doriela\\anaconda3\\lib\\site-packages (from matplotlib>=3.1->seaborn) (1.1.0)\n",
      "Requirement already satisfied, skipping upgrade: python-dateutil>=2.1 in c:\\users\\doriela\\anaconda3\\lib\\site-packages (from matplotlib>=3.1->seaborn) (2.8.1)\n",
      "Requirement already satisfied, skipping upgrade: pyparsing!=2.0.4,!=2.1.2,!=2.1.6,>=2.0.1 in c:\\users\\doriela\\anaconda3\\lib\\site-packages (from matplotlib>=3.1->seaborn) (2.4.6)\n",
      "Requirement already satisfied, skipping upgrade: pytz>=2017.2 in c:\\users\\doriela\\anaconda3\\lib\\site-packages (from pandas>=0.25->seaborn) (2019.3)\n",
      "Requirement already satisfied, skipping upgrade: six in c:\\users\\doriela\\anaconda3\\lib\\site-packages (from cycler>=0.10->matplotlib>=3.1->seaborn) (1.14.0)\n",
      "Requirement already satisfied, skipping upgrade: setuptools in c:\\users\\doriela\\anaconda3\\lib\\site-packages (from kiwisolver>=1.0.1->matplotlib>=3.1->seaborn) (45.2.0.post20200210)\n",
      "Note: you may need to restart the kernel to use updated packages.\n"
     ]
    }
   ],
   "source": [
    "pip install -U seaborn"
   ]
  },
  {
   "cell_type": "markdown",
   "metadata": {},
   "source": [
    "There exist many different ways to visualize the data and not every one of them is suitable for every dataset. Before you venture into creating beautiful visualizations, ask yourself: \"What is it that I am really trying to show?\". Only then you can find a plot type that best suits your needs. Of course, sometimes you just want to explore first - go ahead and try different chart types but keep in mind that even though some of them may be visually attractive, they do not necessarily convey the information in the best possible way.\n",
    "\n",
    "Here, we will look at the basic types of plots and what kind of data they are good for. In this chapter, we will use the seaborn library to visualize (most) of them.\n",
    "\n",
    "We will use the EMP dataset for this exercise - let's start by reading the data in:"
   ]
  },
  {
   "cell_type": "markdown",
   "metadata": {},
   "source": [
    "###### Set up the envirnoment"
   ]
  },
  {
   "cell_type": "code",
   "execution_count": 2,
   "metadata": {},
   "outputs": [],
   "source": [
    "import os\n",
    "import math\n",
    "import matplotlib.pyplot as plt\n",
    "import numpy as np\n",
    "import pandas as pd\n",
    "import seaborn as sns\n",
    "\n",
    "from scipy import stats\n",
    "\n",
    "data_dir = 'data/w11_data'\n",
    "\n",
    "# this is to silence pandas' warnings\n",
    "import warnings\n",
    "warnings.simplefilter(action='ignore')\n",
    "    \n",
    "%matplotlib inline"
   ]
  },
  {
   "cell_type": "code",
   "execution_count": 3,
   "metadata": {},
   "outputs": [],
   "source": [
    "def assign_elevation_level(x):\n",
    "    \"\"\"\n",
    "    Assigns elevation profile based on \n",
    "    elevation in meters above sea level.\n",
    "    \"\"\"\n",
    "    if x <= 500: \n",
    "        return 'low'\n",
    "    elif 500 < x <= 1500:\n",
    "        return 'medium'\n",
    "    else:\n",
    "        return 'high'"
   ]
  },
  {
   "cell_type": "markdown",
   "metadata": {},
   "source": [
    "###### Loading the data"
   ]
  },
  {
   "cell_type": "code",
   "execution_count": 4,
   "metadata": {},
   "outputs": [
    {
     "data": {
      "text/plain": [
       "(730, 8)"
      ]
     },
     "execution_count": 4,
     "metadata": {},
     "output_type": "execute_result"
    }
   ],
   "source": [
    "data = pd.read_csv(f'{data_dir}/emp500_meta.tsv', index_col=0, sep='\\t')\n",
    "data.shape"
   ]
  },
  {
   "cell_type": "code",
   "execution_count": 5,
   "metadata": {},
   "outputs": [
    {
     "data": {
      "text/html": [
       "<div>\n",
       "<style scoped>\n",
       "    .dataframe tbody tr th:only-of-type {\n",
       "        vertical-align: middle;\n",
       "    }\n",
       "\n",
       "    .dataframe tbody tr th {\n",
       "        vertical-align: top;\n",
       "    }\n",
       "\n",
       "    .dataframe thead th {\n",
       "        text-align: right;\n",
       "    }\n",
       "</style>\n",
       "<table border=\"1\" class=\"dataframe\">\n",
       "  <thead>\n",
       "    <tr style=\"text-align: right;\">\n",
       "      <th></th>\n",
       "      <th>shannon_diversity</th>\n",
       "      <th>env_biome</th>\n",
       "      <th>env_package</th>\n",
       "      <th>empo_4</th>\n",
       "      <th>empo_v2_4b</th>\n",
       "      <th>elevation</th>\n",
       "      <th>ph</th>\n",
       "      <th>water_content</th>\n",
       "    </tr>\n",
       "    <tr>\n",
       "      <th>sample_name</th>\n",
       "      <th></th>\n",
       "      <th></th>\n",
       "      <th></th>\n",
       "      <th></th>\n",
       "      <th></th>\n",
       "      <th></th>\n",
       "      <th></th>\n",
       "      <th></th>\n",
       "    </tr>\n",
       "  </thead>\n",
       "  <tbody>\n",
       "    <tr>\n",
       "      <th>13114.6.Mock.Community1</th>\n",
       "      <td>5.488934</td>\n",
       "      <td>urban biome</td>\n",
       "      <td>misc environment</td>\n",
       "      <td>Mock community</td>\n",
       "      <td>Mock community</td>\n",
       "      <td>193.0</td>\n",
       "      <td>not applicable</td>\n",
       "      <td>not applicable</td>\n",
       "    </tr>\n",
       "    <tr>\n",
       "      <th>13114.6.Mock.Community4</th>\n",
       "      <td>6.456336</td>\n",
       "      <td>urban biome</td>\n",
       "      <td>misc environment</td>\n",
       "      <td>Mock community</td>\n",
       "      <td>Mock community</td>\n",
       "      <td>193.0</td>\n",
       "      <td>not applicable</td>\n",
       "      <td>not applicable</td>\n",
       "    </tr>\n",
       "  </tbody>\n",
       "</table>\n",
       "</div>"
      ],
      "text/plain": [
       "                         shannon_diversity    env_biome       env_package  \\\n",
       "sample_name                                                                 \n",
       "13114.6.Mock.Community1           5.488934  urban biome  misc environment   \n",
       "13114.6.Mock.Community4           6.456336  urban biome  misc environment   \n",
       "\n",
       "                                 empo_4      empo_v2_4b  elevation  \\\n",
       "sample_name                                                          \n",
       "13114.6.Mock.Community1  Mock community  Mock community      193.0   \n",
       "13114.6.Mock.Community4  Mock community  Mock community      193.0   \n",
       "\n",
       "                                     ph   water_content  \n",
       "sample_name                                              \n",
       "13114.6.Mock.Community1  not applicable  not applicable  \n",
       "13114.6.Mock.Community4  not applicable  not applicable  "
      ]
     },
     "execution_count": 5,
     "metadata": {},
     "output_type": "execute_result"
    }
   ],
   "source": [
    "data.head(2) # explore the first two records"
   ]
  },
  {
   "cell_type": "markdown",
   "metadata": {},
   "source": [
    "Let's add one more column that will contain elevation profile of a sample, classified based on the actual elevation value (see the setup section to see what the assign_elevation_level actually does):"
   ]
  },
  {
   "cell_type": "code",
   "execution_count": 6,
   "metadata": {},
   "outputs": [],
   "source": [
    "data['elevation_level'] = data['elevation'].astype(float).apply(assign_elevation_level)"
   ]
  },
  {
   "cell_type": "markdown",
   "metadata": {},
   "source": [
    "As different types of plots operate on different types of data (numerical vs. categorical), we can briefly investigate which kind of data is present in which column of our dataset (keep in mind that if a column contains mixed data types or only strings it will be shown as `object` type):"
   ]
  },
  {
   "cell_type": "code",
   "execution_count": 7,
   "metadata": {},
   "outputs": [
    {
     "data": {
      "text/plain": [
       "shannon_diversity    float64\n",
       "env_biome             object\n",
       "env_package           object\n",
       "empo_4                object\n",
       "empo_v2_4b            object\n",
       "elevation            float64\n",
       "ph                    object\n",
       "water_content         object\n",
       "elevation_level       object\n",
       "dtype: object"
      ]
     },
     "execution_count": 7,
     "metadata": {},
     "output_type": "execute_result"
    }
   ],
   "source": [
    "data.dtypes"
   ]
  },
  {
   "cell_type": "markdown",
   "metadata": {},
   "source": [
    "## 2.1 Distribution "
   ]
  },
  {
   "cell_type": "markdown",
   "metadata": {},
   "source": [
    "As you already saw in at least one of the previous exercises (and probably know from other classes), often we are interested in learning about the distribution of the data before we do any kind of analysis. This can be achieved in several ways that are presented below.\n",
    "\n",
    "**NOTE**: Most of the plots below were first generated using seaborn plotting functions and then customized slightly using matplotlib. Do not worry for now if you don't understand some of the matplotlib commands - we will look at them in more detail in [Chapter 3](matplotlib_manipulations.ipnyb)."
   ]
  },
  {
   "cell_type": "markdown",
   "metadata": {},
   "source": [
    "###### 2.1.1 Histogram"
   ]
  },
  {
   "cell_type": "markdown",
   "metadata": {},
   "source": [
    "The most basic way to show an approximate distribution of numerical data where we divide the entire range of values into a series of intervals (bins) and then count how many values fall into each bin. We can also show the kernel density estimation (kde) which can smooth frequencies over the bins and show those as a continuous line."
   ]
  },
  {
   "cell_type": "code",
   "execution_count": 11,
   "metadata": {},
   "outputs": [
    {
     "data": {
      "image/png": "[encoded data removed]",
      "text/plain": [
       "<Figure size 504x360 with 1 Axes>"
      ]
     },
     "metadata": {},
     "output_type": "display_data"
    }
   ],
   "source": [
    "selection = data['env_biome'].isin(\n",
    "    ('urban biome', 'desert biome', 'marine biome', 'forest biome', 'tundra biome')\n",
    ")\n",
    "subset = data.loc[selection, 'shannon_diversity']\n",
    "\n",
    "sns.set(rc={'figure.figsize': (7, 5), 'font.family': ['Helvetica']}, style='white')\n",
    "with sns.plotting_context(\"notebook\", font_scale=1.3):\n",
    "    # seaborn's histogram\n",
    "    ax = sns.histplot(\n",
    "        data=subset.tolist(), \n",
    "        kde=True,\n",
    "        bins=20,\n",
    "        stat='probability'\n",
    "    )\n",
    "    \n",
    "    # matplotlib's customization\n",
    "    ax.set_xlabel('Shannon diversity')"
   ]
  },
  {
   "cell_type": "markdown",
   "metadata": {},
   "source": [
    "###### 2.1.2 Boxplot"
   ]
  },
  {
   "cell_type": "markdown",
   "metadata": {},
   "source": [
    "A box plot can be used to represent the data distibution by visualizing its quartiles. Usually, it also contains whiskers which indicate variability of the data beyond the first and fourth quartile, and can contain individual points depicting outliers. You should always consult the documentation of the plotting library to make sure what the box plot exactly represents, as this may differ slightly between libraries and functions."
   ]
  },
  {
   "cell_type": "code",
   "execution_count": 9,
   "metadata": {},
   "outputs": [
    {
     "data": {
      "image/png": "[encoded data removed]",
      "text/plain": [
       "<Figure size 504x360 with 1 Axes>"
      ]
     },
     "metadata": {},
     "output_type": "display_data"
    }
   ],
   "source": [
    "selection = data['env_biome'].isin(\n",
    "    ('urban biome', 'desert biome', 'marine biome', 'forest biome', 'tundra biome')\n",
    ")\n",
    "subset = data.loc[selection, :]\n",
    "\n",
    "sns.set(rc={'figure.figsize':(7, 5), 'font.family': ['Helvetica']}, style='white')\n",
    "with sns.plotting_context(\"notebook\", font_scale=1.3):\n",
    "    # seaborn's boxplot\n",
    "    ax = sns.boxplot(\n",
    "        data=subset, \n",
    "        x='env_biome', \n",
    "        y='shannon_diversity'\n",
    "    )\n",
    "    \n",
    "    # matplotlib's customization\n",
    "    ax.set_xlabel('Biome')\n",
    "    ax.set_ylabel('Shannon diversity')\n",
    "    \n",
    "    xlabels = ax.get_xticklabels()\n",
    "    xlabels = [l.get_text().replace(' biome', '') for l in xlabels]\n",
    "    ax.set_xticklabels(xlabels)"
   ]
  },
  {
   "cell_type": "markdown",
   "metadata": {},
   "source": [
    "###### 2.1.3 Violin plot"
   ]
  },
  {
   "cell_type": "markdown",
   "metadata": {},
   "source": [
    "A violin plot is very similar to a box plot with the addition of a kde. You can think of it as a box plot combined with a histogram: usually you can see the quartile features plus a smoothed frequency distribution."
   ]
  },
  {
   "cell_type": "code",
   "execution_count": 10,
   "metadata": {},
   "outputs": [
    {
     "data": {
      "image/png": "[encoded data removed]",
      "text/plain": [
       "<Figure size 504x360 with 1 Axes>"
      ]
     },
     "metadata": {},
     "output_type": "display_data"
    }
   ],
   "source": [
    "selection = data['env_biome'].isin(\n",
    "    ('urban biome', 'desert biome', 'marine biome', 'forest biome', 'tundra biome')\n",
    ")\n",
    "subset = data.loc[selection, :]\n",
    "\n",
    "sns.set(rc={'figure.figsize':(7, 5), 'font.family': ['Helvetica']}, style='white')\n",
    "with sns.plotting_context(\"notebook\", font_scale=1.3):\n",
    "    # seaborn's violin plot\n",
    "    ax = sns.violinplot(\n",
    "        data=subset, \n",
    "        x='env_biome', \n",
    "        y='shannon_diversity', figsize=(20,20)\n",
    "    )\n",
    "    \n",
    "    # matplotlib's customization\n",
    "    ax.set_xlabel('Biome')\n",
    "    ax.set_ylabel('Shannon diversity')\n",
    "    \n",
    "    xlabels = ax.get_xticklabels()\n",
    "    xlabels = [l.get_text().replace(' biome', '') for l in xlabels]\n",
    "    ax.set_xticklabels(xlabels)"
   ]
  },
  {
   "cell_type": "markdown",
   "metadata": {},
   "source": [
    "###### 2.1.4 Ridgeline plot"
   ]
  },
  {
   "cell_type": "markdown",
   "metadata": {},
   "source": [
    "A ridgeline plot, also know as Joyplot, shows the distribution of a numerical variable across many different groups. Distributions can be expressed using histograms or densitity plots, aligned to the same horizontal scale and presented with a slight overlap.\n",
    "\n",
    "Here we will show the ridgeline plot of Shannon diversity for each of the selection groups."
   ]
  },
  {
   "cell_type": "code",
   "execution_count": null,
   "metadata": {},
   "outputs": [],
   "source": []
  }
 ],
 "metadata": {
  "kernelspec": {
   "display_name": "Python 3",
   "language": "python",
   "name": "python3"
  },
  "language_info": {
   "codemirror_mode": {
    "name": "ipython",
    "version": 3
   },
   "file_extension": ".py",
   "mimetype": "text/x-python",
   "name": "python",
   "nbconvert_exporter": "python",
   "pygments_lexer": "ipython3",
   "version": "3.7.6"
  },
  "widgets": {
   "application/vnd.jupyter.widget-state+json": {
    "state": {},
    "version_major": 2,
    "version_minor": 0
   }
  }
 },
 "nbformat": 4,
 "nbformat_minor": 4
}
