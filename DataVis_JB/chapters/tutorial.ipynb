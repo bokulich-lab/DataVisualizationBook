{
 "cells": [
  {
   "cell_type": "markdown",
   "metadata": {},
   "source": [
    "# 5. Analyzing Chocolate Data"
   ]
  },
  {
   "cell_type": "markdown",
   "metadata": {},
   "source": [
    "In this chapter we are going to analyze the [Chocolate Bar Ratings](https://www.kaggle.com/datasets/evangower/chocolate-bar-ratings) dataset. Our main focus will be to see the factors that affect the rating of the Chocolate Bars. So using tools learned in the previous chapters, we will get some insights in this dataset."
   ]
  },
  {
   "cell_type": "markdown",
   "metadata": {},
   "source": [
    "###### Set Up"
   ]
  },
  {
   "cell_type": "code",
   "execution_count": 1,
   "metadata": {},
   "outputs": [],
   "source": [
    "import matplotlib.pyplot as plt\n",
    "import numpy as np\n",
    "import pandas as pd\n",
    "import seaborn as sns\n",
    "\n",
    "from scipy import stats\n",
    "\n",
    "data_dir = 'data/'\n",
    "\n",
    "# this is to silence pandas' warnings\n",
    "import warnings\n",
    "warnings.simplefilter(action='ignore')\n",
    "    \n",
    "%matplotlib inline\n",
    "%config InlineBackend.figure_format='svg'\n",
    "\n",
    "#constant variables needed for the configuration of plots' appereance\n",
    "FONT_SCALE = 1.3\n",
    "FONT_FAMILY = 'DejaVu Sans'"
   ]
  },
  {
   "cell_type": "markdown",
   "metadata": {},
   "source": [
    "###### Load the data"
   ]
  },
  {
   "cell_type": "markdown",
   "metadata": {},
   "source": [
    "Here we load the dataset."
   ]
  },
  {
   "cell_type": "code",
   "execution_count": 30,
   "metadata": {},
   "outputs": [
    {
     "data": {
      "text/plain": [
       "Index(['id', 'manufacturer', 'company_location', 'year_reviewed',\n",
       "       'bean_origin', 'bar_name', 'cocoa_percent', 'num_ingredients',\n",
       "       'ingredients', 'review', 'rating'],\n",
       "      dtype='object')"
      ]
     },
     "execution_count": 30,
     "metadata": {},
     "output_type": "execute_result"
    }
   ],
   "source": [
    "chocolate_dataset = pd.read_csv(data_dir+'chocolate_bars.csv')\n",
    "chocolate_dataset.columns"
   ]
  },
  {
   "cell_type": "code",
   "execution_count": 31,
   "metadata": {},
   "outputs": [
    {
     "data": {
      "text/html": [
       "<div>\n",
       "<style scoped>\n",
       "    .dataframe tbody tr th:only-of-type {\n",
       "        vertical-align: middle;\n",
       "    }\n",
       "\n",
       "    .dataframe tbody tr th {\n",
       "        vertical-align: top;\n",
       "    }\n",
       "\n",
       "    .dataframe thead th {\n",
       "        text-align: right;\n",
       "    }\n",
       "</style>\n",
       "<table border=\"1\" class=\"dataframe\">\n",
       "  <thead>\n",
       "    <tr style=\"text-align: right;\">\n",
       "      <th></th>\n",
       "      <th>id</th>\n",
       "      <th>manufacturer</th>\n",
       "      <th>company_location</th>\n",
       "      <th>year_reviewed</th>\n",
       "      <th>bean_origin</th>\n",
       "      <th>bar_name</th>\n",
       "      <th>cocoa_percent</th>\n",
       "      <th>num_ingredients</th>\n",
       "      <th>ingredients</th>\n",
       "      <th>review</th>\n",
       "      <th>rating</th>\n",
       "    </tr>\n",
       "  </thead>\n",
       "  <tbody>\n",
       "    <tr>\n",
       "      <th>0</th>\n",
       "      <td>2454</td>\n",
       "      <td>5150</td>\n",
       "      <td>U.S.A.</td>\n",
       "      <td>2019</td>\n",
       "      <td>Tanzania</td>\n",
       "      <td>Kokoa Kamili, batch 1</td>\n",
       "      <td>76.0</td>\n",
       "      <td>3.0</td>\n",
       "      <td>B,S,C</td>\n",
       "      <td>rich cocoa, fatty, bready</td>\n",
       "      <td>3.25</td>\n",
       "    </tr>\n",
       "    <tr>\n",
       "      <th>1</th>\n",
       "      <td>2458</td>\n",
       "      <td>5150</td>\n",
       "      <td>U.S.A.</td>\n",
       "      <td>2019</td>\n",
       "      <td>Dominican Republic</td>\n",
       "      <td>Zorzal, batch 1</td>\n",
       "      <td>76.0</td>\n",
       "      <td>3.0</td>\n",
       "      <td>B,S,C</td>\n",
       "      <td>cocoa, vegetal, savory</td>\n",
       "      <td>3.50</td>\n",
       "    </tr>\n",
       "    <tr>\n",
       "      <th>2</th>\n",
       "      <td>2454</td>\n",
       "      <td>5150</td>\n",
       "      <td>U.S.A.</td>\n",
       "      <td>2019</td>\n",
       "      <td>Madagascar</td>\n",
       "      <td>Bejofo Estate, batch 1</td>\n",
       "      <td>76.0</td>\n",
       "      <td>3.0</td>\n",
       "      <td>B,S,C</td>\n",
       "      <td>cocoa, blackberry, full body</td>\n",
       "      <td>3.75</td>\n",
       "    </tr>\n",
       "    <tr>\n",
       "      <th>3</th>\n",
       "      <td>2542</td>\n",
       "      <td>5150</td>\n",
       "      <td>U.S.A.</td>\n",
       "      <td>2021</td>\n",
       "      <td>Fiji</td>\n",
       "      <td>Matasawalevu, batch 1</td>\n",
       "      <td>68.0</td>\n",
       "      <td>3.0</td>\n",
       "      <td>B,S,C</td>\n",
       "      <td>chewy, off, rubbery</td>\n",
       "      <td>3.00</td>\n",
       "    </tr>\n",
       "    <tr>\n",
       "      <th>4</th>\n",
       "      <td>2546</td>\n",
       "      <td>5150</td>\n",
       "      <td>U.S.A.</td>\n",
       "      <td>2021</td>\n",
       "      <td>Venezuela</td>\n",
       "      <td>Sur del Lago, batch 1</td>\n",
       "      <td>72.0</td>\n",
       "      <td>3.0</td>\n",
       "      <td>B,S,C</td>\n",
       "      <td>fatty, earthy, moss, nutty,chalky</td>\n",
       "      <td>3.00</td>\n",
       "    </tr>\n",
       "  </tbody>\n",
       "</table>\n",
       "</div>"
      ],
      "text/plain": [
       "     id manufacturer company_location  year_reviewed         bean_origin  \\\n",
       "0  2454         5150           U.S.A.           2019            Tanzania   \n",
       "1  2458         5150           U.S.A.           2019  Dominican Republic   \n",
       "2  2454         5150           U.S.A.           2019          Madagascar   \n",
       "3  2542         5150           U.S.A.           2021                Fiji   \n",
       "4  2546         5150           U.S.A.           2021           Venezuela   \n",
       "\n",
       "                 bar_name  cocoa_percent  num_ingredients ingredients  \\\n",
       "0   Kokoa Kamili, batch 1           76.0              3.0       B,S,C   \n",
       "1         Zorzal, batch 1           76.0              3.0       B,S,C   \n",
       "2  Bejofo Estate, batch 1           76.0              3.0       B,S,C   \n",
       "3   Matasawalevu, batch 1           68.0              3.0       B,S,C   \n",
       "4   Sur del Lago, batch 1           72.0              3.0       B,S,C   \n",
       "\n",
       "                              review  rating  \n",
       "0          rich cocoa, fatty, bready    3.25  \n",
       "1             cocoa, vegetal, savory    3.50  \n",
       "2       cocoa, blackberry, full body    3.75  \n",
       "3                chewy, off, rubbery    3.00  \n",
       "4  fatty, earthy, moss, nutty,chalky    3.00  "
      ]
     },
     "execution_count": 31,
     "metadata": {},
     "output_type": "execute_result"
    }
   ],
   "source": [
    "chocolate_dataset.head()"
   ]
  },
  {
   "cell_type": "markdown",
   "metadata": {},
   "source": [
    "As we can see, the dataset has 11 columns. The `id` is the ID of the review for the chocolate bar. The `manufacturer` columns refers to the manufacturer of the chocolate bar. The `company_location` shows the location of the manufacturer. The `year_reviewed` stands for the year of the review of the chocolate bar. The `bean_origin` is the origin of the cocoa bean. The `bar_name` stands for the company that provides cocoa beans. The `cocoa_percent` shows the cocoa percentage of the bars. The `num_ingredients` and `ingredients` as the name indicate shows the ingredients of the chocolate bars. In addition, there are the `review` and the `rating` columns that capture interviewees' opinions on the chocolate bars."
   ]
  },
  {
   "cell_type": "markdown",
   "metadata": {},
   "source": [
    "Now let's analyze this dataset."
   ]
  },
  {
   "cell_type": "markdown",
   "metadata": {},
   "source": [
    "## 5.1 Analyzing the data"
   ]
  },
  {
   "cell_type": "markdown",
   "metadata": {},
   "source": [
    "###### 5.1.1 Ratings per manufacturer"
   ]
  },
  {
   "cell_type": "markdown",
   "metadata": {},
   "source": [
    "Let us start by checking how many ratings there are per manufacturer."
   ]
  },
  {
   "cell_type": "code",
   "execution_count": 94,
   "metadata": {},
   "outputs": [],
   "source": [
    "ratings_per_manufacturer = chocolate_dataset[['id', 'manufacturer']].groupby('manufacturer').count()\n",
    "\n",
    "# we need this to preserve the columns\n",
    "ratings_per_manufacturer = ratings_per_manufacturer.reset_index()\n",
    "\n",
    "#here we sort the values in descending order and select the top 10\n",
    "ratings_per_manufacturer = ratings_per_manufacturer.sort_values(by='id', ascending=False).iloc[:10,:]"
   ]
  },
  {
   "cell_type": "code",
   "execution_count": 99,
   "metadata": {},
   "outputs": [
    {
     "data": {
      "image/svg+xml": "<?xml version=\"1.0\" encoding=\"utf-8\" standalone=\"no\"?>\r\n<!DOCTYPE svg PUBLIC \"-//W3C//DTD SVG 1.1//EN\"\r\n  \"http://www.w3.org/Graphics/SVG/1.1/DTD/svg11.dtd\">\r\n<svg height=\"381.229443pt\" version=\"1.1\" viewBox=\"0 0 451.794625 381.229443\" width=\"451.794625pt\" xmlns=\"http://www.w3.org/2000/svg\" xmlns:xlink=\"http://www.w3.org/1999/xlink\">\r\n <metadata>\r\n  <rdf:RDF xmlns:cc=\"http://creativecommons.org/ns#\" xmlns:dc=\"http://purl.org/dc/elements/1.1/\" xmlns:rdf=\"http://www.w3.org/1999/02/22-rdf-syntax-ns#\">\r\n   <cc:Work>\r\n    <dc:type rdf:resource=\"http://purl.org/dc/dcmitype/StillImage\"/>\r\n    <dc:date>2022-10-25T16:36:01.869691</dc:date>\r\n    <dc:format>image/svg+xml</dc:format>\r\n    <dc:creator>\r\n     <cc:Agent>\r\n      <dc:title>Matplotlib v3.4.3, https://matplotlib.org/</dc:title>\r\n     </cc:Agent>\r\n    </dc:creator>\r\n   </cc:Work>\r\n  </rdf:RDF>\r\n </metadata>\r\n <defs>\r\n  <style type=\"text/css\">*{stroke-linecap:butt;stroke-linejoin:round;}</style>\r\n </defs>\r\n <g id=\"figure_1\">\r\n  <g id=\"patch_1\">\r\n   <path d=\"M 0 381.229443 \r\nL 451.794625 381.229443 \r\nL 451.794625 0 \r\nL 0 0 \r\nz\r\n\" style=\"fill:#ffffff;\"/>\r\n  </g>\r\n  <g id=\"axes_1\">\r\n   <g id=\"patch_2\">\r\n    <path d=\"M 53.994625 284.4 \r\nL 444.594625 284.4 \r\nL 444.594625 7.2 \r\nL 53.994625 7.2 \r\nz\r\n\" style=\"fill:#ffffff;\"/>\r\n   </g>\r\n   <g id=\"matplotlib.axis_1\">\r\n    <g id=\"xtick_1\">\r\n     <g id=\"text_1\">\r\n      <!-- Soma -->\r\n      <g style=\"fill:#262626;\" transform=\"translate(77.967771 330.2355)rotate(-45)scale(0.143 -0.143)\">\r\n       <defs>\r\n        <path d=\"M 3425 4513 \r\nL 3425 3897 \r\nQ 3066 4069 2747 4153 \r\nQ 2428 4238 2131 4238 \r\nQ 1616 4238 1336 4038 \r\nQ 1056 3838 1056 3469 \r\nQ 1056 3159 1242 3001 \r\nQ 1428 2844 1947 2747 \r\nL 2328 2669 \r\nQ 3034 2534 3370 2195 \r\nQ 3706 1856 3706 1288 \r\nQ 3706 609 3251 259 \r\nQ 2797 -91 1919 -91 \r\nQ 1588 -91 1214 -16 \r\nQ 841 59 441 206 \r\nL 441 856 \r\nQ 825 641 1194 531 \r\nQ 1563 422 1919 422 \r\nQ 2459 422 2753 634 \r\nQ 3047 847 3047 1241 \r\nQ 3047 1584 2836 1778 \r\nQ 2625 1972 2144 2069 \r\nL 1759 2144 \r\nQ 1053 2284 737 2584 \r\nQ 422 2884 422 3419 \r\nQ 422 4038 858 4394 \r\nQ 1294 4750 2059 4750 \r\nQ 2388 4750 2728 4690 \r\nQ 3069 4631 3425 4513 \r\nz\r\n\" id=\"DejaVuSans-53\" transform=\"scale(0.015625)\"/>\r\n        <path d=\"M 1959 3097 \r\nQ 1497 3097 1228 2736 \r\nQ 959 2375 959 1747 \r\nQ 959 1119 1226 758 \r\nQ 1494 397 1959 397 \r\nQ 2419 397 2687 759 \r\nQ 2956 1122 2956 1747 \r\nQ 2956 2369 2687 2733 \r\nQ 2419 3097 1959 3097 \r\nz\r\nM 1959 3584 \r\nQ 2709 3584 3137 3096 \r\nQ 3566 2609 3566 1747 \r\nQ 3566 888 3137 398 \r\nQ 2709 -91 1959 -91 \r\nQ 1206 -91 779 398 \r\nQ 353 888 353 1747 \r\nQ 353 2609 779 3096 \r\nQ 1206 3584 1959 3584 \r\nz\r\n\" id=\"DejaVuSans-6f\" transform=\"scale(0.015625)\"/>\r\n        <path d=\"M 3328 2828 \r\nQ 3544 3216 3844 3400 \r\nQ 4144 3584 4550 3584 \r\nQ 5097 3584 5394 3201 \r\nQ 5691 2819 5691 2113 \r\nL 5691 0 \r\nL 5113 0 \r\nL 5113 2094 \r\nQ 5113 2597 4934 2840 \r\nQ 4756 3084 4391 3084 \r\nQ 3944 3084 3684 2787 \r\nQ 3425 2491 3425 1978 \r\nL 3425 0 \r\nL 2847 0 \r\nL 2847 2094 \r\nQ 2847 2600 2669 2842 \r\nQ 2491 3084 2119 3084 \r\nQ 1678 3084 1418 2786 \r\nQ 1159 2488 1159 1978 \r\nL 1159 0 \r\nL 581 0 \r\nL 581 3500 \r\nL 1159 3500 \r\nL 1159 2956 \r\nQ 1356 3278 1631 3431 \r\nQ 1906 3584 2284 3584 \r\nQ 2666 3584 2933 3390 \r\nQ 3200 3197 3328 2828 \r\nz\r\n\" id=\"DejaVuSans-6d\" transform=\"scale(0.015625)\"/>\r\n        <path d=\"M 2194 1759 \r\nQ 1497 1759 1228 1600 \r\nQ 959 1441 959 1056 \r\nQ 959 750 1161 570 \r\nQ 1363 391 1709 391 \r\nQ 2188 391 2477 730 \r\nQ 2766 1069 2766 1631 \r\nL 2766 1759 \r\nL 2194 1759 \r\nz\r\nM 3341 1997 \r\nL 3341 0 \r\nL 2766 0 \r\nL 2766 531 \r\nQ 2569 213 2275 61 \r\nQ 1981 -91 1556 -91 \r\nQ 1019 -91 701 211 \r\nQ 384 513 384 1019 \r\nQ 384 1609 779 1909 \r\nQ 1175 2209 1959 2209 \r\nL 2766 2209 \r\nL 2766 2266 \r\nQ 2766 2663 2505 2880 \r\nQ 2244 3097 1772 3097 \r\nQ 1472 3097 1187 3025 \r\nQ 903 2953 641 2809 \r\nL 641 3341 \r\nQ 956 3463 1253 3523 \r\nQ 1550 3584 1831 3584 \r\nQ 2591 3584 2966 3190 \r\nQ 3341 2797 3341 1997 \r\nz\r\n\" id=\"DejaVuSans-61\" transform=\"scale(0.015625)\"/>\r\n       </defs>\r\n       <use xlink:href=\"#DejaVuSans-53\"/>\r\n       <use x=\"63.476562\" xlink:href=\"#DejaVuSans-6f\"/>\r\n       <use x=\"124.658203\" xlink:href=\"#DejaVuSans-6d\"/>\r\n       <use x=\"222.070312\" xlink:href=\"#DejaVuSans-61\"/>\r\n      </g>\r\n     </g>\r\n    </g>\r\n    <g id=\"xtick_2\">\r\n     <g id=\"text_2\">\r\n      <!-- Fresco -->\r\n      <g style=\"fill:#262626;\" transform=\"translate(111.678889 333.831447)rotate(-45)scale(0.143 -0.143)\">\r\n       <defs>\r\n        <path d=\"M 628 4666 \r\nL 3309 4666 \r\nL 3309 4134 \r\nL 1259 4134 \r\nL 1259 2759 \r\nL 3109 2759 \r\nL 3109 2228 \r\nL 1259 2228 \r\nL 1259 0 \r\nL 628 0 \r\nL 628 4666 \r\nz\r\n\" id=\"DejaVuSans-46\" transform=\"scale(0.015625)\"/>\r\n        <path d=\"M 2631 2963 \r\nQ 2534 3019 2420 3045 \r\nQ 2306 3072 2169 3072 \r\nQ 1681 3072 1420 2755 \r\nQ 1159 2438 1159 1844 \r\nL 1159 0 \r\nL 581 0 \r\nL 581 3500 \r\nL 1159 3500 \r\nL 1159 2956 \r\nQ 1341 3275 1631 3429 \r\nQ 1922 3584 2338 3584 \r\nQ 2397 3584 2469 3576 \r\nQ 2541 3569 2628 3553 \r\nL 2631 2963 \r\nz\r\n\" id=\"DejaVuSans-72\" transform=\"scale(0.015625)\"/>\r\n        <path d=\"M 3597 1894 \r\nL 3597 1613 \r\nL 953 1613 \r\nQ 991 1019 1311 708 \r\nQ 1631 397 2203 397 \r\nQ 2534 397 2845 478 \r\nQ 3156 559 3463 722 \r\nL 3463 178 \r\nQ 3153 47 2828 -22 \r\nQ 2503 -91 2169 -91 \r\nQ 1331 -91 842 396 \r\nQ 353 884 353 1716 \r\nQ 353 2575 817 3079 \r\nQ 1281 3584 2069 3584 \r\nQ 2775 3584 3186 3129 \r\nQ 3597 2675 3597 1894 \r\nz\r\nM 3022 2063 \r\nQ 3016 2534 2758 2815 \r\nQ 2500 3097 2075 3097 \r\nQ 1594 3097 1305 2825 \r\nQ 1016 2553 972 2059 \r\nL 3022 2063 \r\nz\r\n\" id=\"DejaVuSans-65\" transform=\"scale(0.015625)\"/>\r\n        <path d=\"M 2834 3397 \r\nL 2834 2853 \r\nQ 2591 2978 2328 3040 \r\nQ 2066 3103 1784 3103 \r\nQ 1356 3103 1142 2972 \r\nQ 928 2841 928 2578 \r\nQ 928 2378 1081 2264 \r\nQ 1234 2150 1697 2047 \r\nL 1894 2003 \r\nQ 2506 1872 2764 1633 \r\nQ 3022 1394 3022 966 \r\nQ 3022 478 2636 193 \r\nQ 2250 -91 1575 -91 \r\nQ 1294 -91 989 -36 \r\nQ 684 19 347 128 \r\nL 347 722 \r\nQ 666 556 975 473 \r\nQ 1284 391 1588 391 \r\nQ 1994 391 2212 530 \r\nQ 2431 669 2431 922 \r\nQ 2431 1156 2273 1281 \r\nQ 2116 1406 1581 1522 \r\nL 1381 1569 \r\nQ 847 1681 609 1914 \r\nQ 372 2147 372 2553 \r\nQ 372 3047 722 3315 \r\nQ 1072 3584 1716 3584 \r\nQ 2034 3584 2315 3537 \r\nQ 2597 3491 2834 3397 \r\nz\r\n\" id=\"DejaVuSans-73\" transform=\"scale(0.015625)\"/>\r\n        <path d=\"M 3122 3366 \r\nL 3122 2828 \r\nQ 2878 2963 2633 3030 \r\nQ 2388 3097 2138 3097 \r\nQ 1578 3097 1268 2742 \r\nQ 959 2388 959 1747 \r\nQ 959 1106 1268 751 \r\nQ 1578 397 2138 397 \r\nQ 2388 397 2633 464 \r\nQ 2878 531 3122 666 \r\nL 3122 134 \r\nQ 2881 22 2623 -34 \r\nQ 2366 -91 2075 -91 \r\nQ 1284 -91 818 406 \r\nQ 353 903 353 1747 \r\nQ 353 2603 823 3093 \r\nQ 1294 3584 2113 3584 \r\nQ 2378 3584 2631 3529 \r\nQ 2884 3475 3122 3366 \r\nz\r\n\" id=\"DejaVuSans-63\" transform=\"scale(0.015625)\"/>\r\n       </defs>\r\n       <use xlink:href=\"#DejaVuSans-46\"/>\r\n       <use x=\"50.269531\" xlink:href=\"#DejaVuSans-72\"/>\r\n       <use x=\"89.132812\" xlink:href=\"#DejaVuSans-65\"/>\r\n       <use x=\"150.65625\" xlink:href=\"#DejaVuSans-73\"/>\r\n       <use x=\"202.755859\" xlink:href=\"#DejaVuSans-63\"/>\r\n       <use x=\"257.736328\" xlink:href=\"#DejaVuSans-6f\"/>\r\n      </g>\r\n     </g>\r\n    </g>\r\n    <g id=\"xtick_3\">\r\n     <g id=\"text_3\">\r\n      <!-- Arete -->\r\n      <g style=\"fill:#262626;\" transform=\"translate(149.685078 328.837251)rotate(-45)scale(0.143 -0.143)\">\r\n       <defs>\r\n        <path d=\"M 2188 4044 \r\nL 1331 1722 \r\nL 3047 1722 \r\nL 2188 4044 \r\nz\r\nM 1831 4666 \r\nL 2547 4666 \r\nL 4325 0 \r\nL 3669 0 \r\nL 3244 1197 \r\nL 1141 1197 \r\nL 716 0 \r\nL 50 0 \r\nL 1831 4666 \r\nz\r\n\" id=\"DejaVuSans-41\" transform=\"scale(0.015625)\"/>\r\n        <path d=\"M 1172 4494 \r\nL 1172 3500 \r\nL 2356 3500 \r\nL 2356 3053 \r\nL 1172 3053 \r\nL 1172 1153 \r\nQ 1172 725 1289 603 \r\nQ 1406 481 1766 481 \r\nL 2356 481 \r\nL 2356 0 \r\nL 1766 0 \r\nQ 1100 0 847 248 \r\nQ 594 497 594 1153 \r\nL 594 3053 \r\nL 172 3053 \r\nL 172 3500 \r\nL 594 3500 \r\nL 594 4494 \r\nL 1172 4494 \r\nz\r\n\" id=\"DejaVuSans-74\" transform=\"scale(0.015625)\"/>\r\n       </defs>\r\n       <use xlink:href=\"#DejaVuSans-41\"/>\r\n       <use x=\"68.408203\" xlink:href=\"#DejaVuSans-72\"/>\r\n       <use x=\"107.271484\" xlink:href=\"#DejaVuSans-65\"/>\r\n       <use x=\"168.794922\" xlink:href=\"#DejaVuSans-74\"/>\r\n       <use x=\"208.003906\" xlink:href=\"#DejaVuSans-65\"/>\r\n      </g>\r\n     </g>\r\n    </g>\r\n    <g id=\"xtick_4\">\r\n     <g id=\"text_4\">\r\n      <!-- Bonnat -->\r\n      <g style=\"fill:#262626;\" transform=\"translate(180.770332 337.684925)rotate(-45)scale(0.143 -0.143)\">\r\n       <defs>\r\n        <path d=\"M 1259 2228 \r\nL 1259 519 \r\nL 2272 519 \r\nQ 2781 519 3026 730 \r\nQ 3272 941 3272 1375 \r\nQ 3272 1813 3026 2020 \r\nQ 2781 2228 2272 2228 \r\nL 1259 2228 \r\nz\r\nM 1259 4147 \r\nL 1259 2741 \r\nL 2194 2741 \r\nQ 2656 2741 2882 2914 \r\nQ 3109 3088 3109 3444 \r\nQ 3109 3797 2882 3972 \r\nQ 2656 4147 2194 4147 \r\nL 1259 4147 \r\nz\r\nM 628 4666 \r\nL 2241 4666 \r\nQ 2963 4666 3353 4366 \r\nQ 3744 4066 3744 3513 \r\nQ 3744 3084 3544 2831 \r\nQ 3344 2578 2956 2516 \r\nQ 3422 2416 3680 2098 \r\nQ 3938 1781 3938 1306 \r\nQ 3938 681 3513 340 \r\nQ 3088 0 2303 0 \r\nL 628 0 \r\nL 628 4666 \r\nz\r\n\" id=\"DejaVuSans-42\" transform=\"scale(0.015625)\"/>\r\n        <path d=\"M 3513 2113 \r\nL 3513 0 \r\nL 2938 0 \r\nL 2938 2094 \r\nQ 2938 2591 2744 2837 \r\nQ 2550 3084 2163 3084 \r\nQ 1697 3084 1428 2787 \r\nQ 1159 2491 1159 1978 \r\nL 1159 0 \r\nL 581 0 \r\nL 581 3500 \r\nL 1159 3500 \r\nL 1159 2956 \r\nQ 1366 3272 1645 3428 \r\nQ 1925 3584 2291 3584 \r\nQ 2894 3584 3203 3211 \r\nQ 3513 2838 3513 2113 \r\nz\r\n\" id=\"DejaVuSans-6e\" transform=\"scale(0.015625)\"/>\r\n       </defs>\r\n       <use xlink:href=\"#DejaVuSans-42\"/>\r\n       <use x=\"68.603516\" xlink:href=\"#DejaVuSans-6f\"/>\r\n       <use x=\"129.785156\" xlink:href=\"#DejaVuSans-6e\"/>\r\n       <use x=\"193.164062\" xlink:href=\"#DejaVuSans-6e\"/>\r\n       <use x=\"256.542969\" xlink:href=\"#DejaVuSans-61\"/>\r\n       <use x=\"317.822266\" xlink:href=\"#DejaVuSans-74\"/>\r\n      </g>\r\n     </g>\r\n    </g>\r\n    <g id=\"xtick_5\">\r\n     <g id=\"text_5\">\r\n      <!-- A. Morin -->\r\n      <g style=\"fill:#262626;\" transform=\"translate(213.603791 343.036187)rotate(-45)scale(0.143 -0.143)\">\r\n       <defs>\r\n        <path d=\"M 684 794 \r\nL 1344 794 \r\nL 1344 0 \r\nL 684 0 \r\nL 684 794 \r\nz\r\n\" id=\"DejaVuSans-2e\" transform=\"scale(0.015625)\"/>\r\n        <path id=\"DejaVuSans-20\" transform=\"scale(0.015625)\"/>\r\n        <path d=\"M 628 4666 \r\nL 1569 4666 \r\nL 2759 1491 \r\nL 3956 4666 \r\nL 4897 4666 \r\nL 4897 0 \r\nL 4281 0 \r\nL 4281 4097 \r\nL 3078 897 \r\nL 2444 897 \r\nL 1241 4097 \r\nL 1241 0 \r\nL 628 0 \r\nL 628 4666 \r\nz\r\n\" id=\"DejaVuSans-4d\" transform=\"scale(0.015625)\"/>\r\n        <path d=\"M 603 3500 \r\nL 1178 3500 \r\nL 1178 0 \r\nL 603 0 \r\nL 603 3500 \r\nz\r\nM 603 4863 \r\nL 1178 4863 \r\nL 1178 4134 \r\nL 603 4134 \r\nL 603 4863 \r\nz\r\n\" id=\"DejaVuSans-69\" transform=\"scale(0.015625)\"/>\r\n       </defs>\r\n       <use xlink:href=\"#DejaVuSans-41\"/>\r\n       <use x=\"66.658203\" xlink:href=\"#DejaVuSans-2e\"/>\r\n       <use x=\"98.445312\" xlink:href=\"#DejaVuSans-20\"/>\r\n       <use x=\"130.232422\" xlink:href=\"#DejaVuSans-4d\"/>\r\n       <use x=\"216.511719\" xlink:href=\"#DejaVuSans-6f\"/>\r\n       <use x=\"277.693359\" xlink:href=\"#DejaVuSans-72\"/>\r\n       <use x=\"318.806641\" xlink:href=\"#DejaVuSans-69\"/>\r\n       <use x=\"346.589844\" xlink:href=\"#DejaVuSans-6e\"/>\r\n      </g>\r\n     </g>\r\n    </g>\r\n    <g id=\"xtick_6\">\r\n     <g id=\"text_6\">\r\n      <!-- Pralus -->\r\n      <g style=\"fill:#262626;\" transform=\"translate(254.460195 332.341562)rotate(-45)scale(0.143 -0.143)\">\r\n       <defs>\r\n        <path d=\"M 1259 4147 \r\nL 1259 2394 \r\nL 2053 2394 \r\nQ 2494 2394 2734 2622 \r\nQ 2975 2850 2975 3272 \r\nQ 2975 3691 2734 3919 \r\nQ 2494 4147 2053 4147 \r\nL 1259 4147 \r\nz\r\nM 628 4666 \r\nL 2053 4666 \r\nQ 2838 4666 3239 4311 \r\nQ 3641 3956 3641 3272 \r\nQ 3641 2581 3239 2228 \r\nQ 2838 1875 2053 1875 \r\nL 1259 1875 \r\nL 1259 0 \r\nL 628 0 \r\nL 628 4666 \r\nz\r\n\" id=\"DejaVuSans-50\" transform=\"scale(0.015625)\"/>\r\n        <path d=\"M 603 4863 \r\nL 1178 4863 \r\nL 1178 0 \r\nL 603 0 \r\nL 603 4863 \r\nz\r\n\" id=\"DejaVuSans-6c\" transform=\"scale(0.015625)\"/>\r\n        <path d=\"M 544 1381 \r\nL 544 3500 \r\nL 1119 3500 \r\nL 1119 1403 \r\nQ 1119 906 1312 657 \r\nQ 1506 409 1894 409 \r\nQ 2359 409 2629 706 \r\nQ 2900 1003 2900 1516 \r\nL 2900 3500 \r\nL 3475 3500 \r\nL 3475 0 \r\nL 2900 0 \r\nL 2900 538 \r\nQ 2691 219 2414 64 \r\nQ 2138 -91 1772 -91 \r\nQ 1169 -91 856 284 \r\nQ 544 659 544 1381 \r\nz\r\nM 1991 3584 \r\nL 1991 3584 \r\nz\r\n\" id=\"DejaVuSans-75\" transform=\"scale(0.015625)\"/>\r\n       </defs>\r\n       <use xlink:href=\"#DejaVuSans-50\"/>\r\n       <use x=\"58.552734\" xlink:href=\"#DejaVuSans-72\"/>\r\n       <use x=\"99.666016\" xlink:href=\"#DejaVuSans-61\"/>\r\n       <use x=\"160.945312\" xlink:href=\"#DejaVuSans-6c\"/>\r\n       <use x=\"188.728516\" xlink:href=\"#DejaVuSans-75\"/>\r\n       <use x=\"252.107422\" xlink:href=\"#DejaVuSans-73\"/>\r\n      </g>\r\n     </g>\r\n    </g>\r\n    <g id=\"xtick_7\">\r\n     <g id=\"text_7\">\r\n      <!-- Dandelion -->\r\n      <g style=\"fill:#262626;\" transform=\"translate(279.725734 352.828666)rotate(-45)scale(0.143 -0.143)\">\r\n       <defs>\r\n        <path d=\"M 1259 4147 \r\nL 1259 519 \r\nL 2022 519 \r\nQ 2988 519 3436 956 \r\nQ 3884 1394 3884 2338 \r\nQ 3884 3275 3436 3711 \r\nQ 2988 4147 2022 4147 \r\nL 1259 4147 \r\nz\r\nM 628 4666 \r\nL 1925 4666 \r\nQ 3281 4666 3915 4102 \r\nQ 4550 3538 4550 2338 \r\nQ 4550 1131 3912 565 \r\nQ 3275 0 1925 0 \r\nL 628 0 \r\nL 628 4666 \r\nz\r\n\" id=\"DejaVuSans-44\" transform=\"scale(0.015625)\"/>\r\n        <path d=\"M 2906 2969 \r\nL 2906 4863 \r\nL 3481 4863 \r\nL 3481 0 \r\nL 2906 0 \r\nL 2906 525 \r\nQ 2725 213 2448 61 \r\nQ 2172 -91 1784 -91 \r\nQ 1150 -91 751 415 \r\nQ 353 922 353 1747 \r\nQ 353 2572 751 3078 \r\nQ 1150 3584 1784 3584 \r\nQ 2172 3584 2448 3432 \r\nQ 2725 3281 2906 2969 \r\nz\r\nM 947 1747 \r\nQ 947 1113 1208 752 \r\nQ 1469 391 1925 391 \r\nQ 2381 391 2643 752 \r\nQ 2906 1113 2906 1747 \r\nQ 2906 2381 2643 2742 \r\nQ 2381 3103 1925 3103 \r\nQ 1469 3103 1208 2742 \r\nQ 947 2381 947 1747 \r\nz\r\n\" id=\"DejaVuSans-64\" transform=\"scale(0.015625)\"/>\r\n       </defs>\r\n       <use xlink:href=\"#DejaVuSans-44\"/>\r\n       <use x=\"77.001953\" xlink:href=\"#DejaVuSans-61\"/>\r\n       <use x=\"138.28125\" xlink:href=\"#DejaVuSans-6e\"/>\r\n       <use x=\"201.660156\" xlink:href=\"#DejaVuSans-64\"/>\r\n       <use x=\"265.136719\" xlink:href=\"#DejaVuSans-65\"/>\r\n       <use x=\"326.660156\" xlink:href=\"#DejaVuSans-6c\"/>\r\n       <use x=\"354.443359\" xlink:href=\"#DejaVuSans-69\"/>\r\n       <use x=\"382.226562\" xlink:href=\"#DejaVuSans-6f\"/>\r\n       <use x=\"443.408203\" xlink:href=\"#DejaVuSans-6e\"/>\r\n      </g>\r\n     </g>\r\n    </g>\r\n    <g id=\"xtick_8\">\r\n     <g id=\"text_8\">\r\n      <!-- Domori -->\r\n      <g style=\"fill:#262626;\" transform=\"translate(322.369841 338.558632)rotate(-45)scale(0.143 -0.143)\">\r\n       <use xlink:href=\"#DejaVuSans-44\"/>\r\n       <use x=\"77.001953\" xlink:href=\"#DejaVuSans-6f\"/>\r\n       <use x=\"138.183594\" xlink:href=\"#DejaVuSans-6d\"/>\r\n       <use x=\"235.595703\" xlink:href=\"#DejaVuSans-6f\"/>\r\n       <use x=\"296.777344\" xlink:href=\"#DejaVuSans-72\"/>\r\n       <use x=\"337.890625\" xlink:href=\"#DejaVuSans-69\"/>\r\n      </g>\r\n     </g>\r\n    </g>\r\n    <g id=\"xtick_9\">\r\n     <g id=\"text_9\">\r\n      <!-- Guittard -->\r\n      <g style=\"fill:#262626;\" transform=\"translate(355.578537 343.159423)rotate(-45)scale(0.143 -0.143)\">\r\n       <defs>\r\n        <path d=\"M 3809 666 \r\nL 3809 1919 \r\nL 2778 1919 \r\nL 2778 2438 \r\nL 4434 2438 \r\nL 4434 434 \r\nQ 4069 175 3628 42 \r\nQ 3188 -91 2688 -91 \r\nQ 1594 -91 976 548 \r\nQ 359 1188 359 2328 \r\nQ 359 3472 976 4111 \r\nQ 1594 4750 2688 4750 \r\nQ 3144 4750 3555 4637 \r\nQ 3966 4525 4313 4306 \r\nL 4313 3634 \r\nQ 3963 3931 3569 4081 \r\nQ 3175 4231 2741 4231 \r\nQ 1884 4231 1454 3753 \r\nQ 1025 3275 1025 2328 \r\nQ 1025 1384 1454 906 \r\nQ 1884 428 2741 428 \r\nQ 3075 428 3337 486 \r\nQ 3600 544 3809 666 \r\nz\r\n\" id=\"DejaVuSans-47\" transform=\"scale(0.015625)\"/>\r\n       </defs>\r\n       <use xlink:href=\"#DejaVuSans-47\"/>\r\n       <use x=\"77.490234\" xlink:href=\"#DejaVuSans-75\"/>\r\n       <use x=\"140.869141\" xlink:href=\"#DejaVuSans-69\"/>\r\n       <use x=\"168.652344\" xlink:href=\"#DejaVuSans-74\"/>\r\n       <use x=\"207.861328\" xlink:href=\"#DejaVuSans-74\"/>\r\n       <use x=\"247.070312\" xlink:href=\"#DejaVuSans-61\"/>\r\n       <use x=\"308.349609\" xlink:href=\"#DejaVuSans-72\"/>\r\n       <use x=\"347.712891\" xlink:href=\"#DejaVuSans-64\"/>\r\n      </g>\r\n     </g>\r\n    </g>\r\n    <g id=\"xtick_10\">\r\n     <g id=\"text_10\">\r\n      <!-- Valrhona -->\r\n      <g style=\"fill:#262626;\" transform=\"translate(389.716239 345.902202)rotate(-45)scale(0.143 -0.143)\">\r\n       <defs>\r\n        <path d=\"M 1831 0 \r\nL 50 4666 \r\nL 709 4666 \r\nL 2188 738 \r\nL 3669 4666 \r\nL 4325 4666 \r\nL 2547 0 \r\nL 1831 0 \r\nz\r\n\" id=\"DejaVuSans-56\" transform=\"scale(0.015625)\"/>\r\n        <path d=\"M 3513 2113 \r\nL 3513 0 \r\nL 2938 0 \r\nL 2938 2094 \r\nQ 2938 2591 2744 2837 \r\nQ 2550 3084 2163 3084 \r\nQ 1697 3084 1428 2787 \r\nQ 1159 2491 1159 1978 \r\nL 1159 0 \r\nL 581 0 \r\nL 581 4863 \r\nL 1159 4863 \r\nL 1159 2956 \r\nQ 1366 3272 1645 3428 \r\nQ 1925 3584 2291 3584 \r\nQ 2894 3584 3203 3211 \r\nQ 3513 2838 3513 2113 \r\nz\r\n\" id=\"DejaVuSans-68\" transform=\"scale(0.015625)\"/>\r\n       </defs>\r\n       <use xlink:href=\"#DejaVuSans-56\"/>\r\n       <use x=\"60.658203\" xlink:href=\"#DejaVuSans-61\"/>\r\n       <use x=\"121.9375\" xlink:href=\"#DejaVuSans-6c\"/>\r\n       <use x=\"149.720703\" xlink:href=\"#DejaVuSans-72\"/>\r\n       <use x=\"189.083984\" xlink:href=\"#DejaVuSans-68\"/>\r\n       <use x=\"252.462891\" xlink:href=\"#DejaVuSans-6f\"/>\r\n       <use x=\"313.644531\" xlink:href=\"#DejaVuSans-6e\"/>\r\n       <use x=\"377.023438\" xlink:href=\"#DejaVuSans-61\"/>\r\n      </g>\r\n     </g>\r\n    </g>\r\n    <g id=\"text_11\">\r\n     <!-- Manufacturer -->\r\n     <g style=\"fill:#262626;\" transform=\"translate(197.045594 370.785131)scale(0.156 -0.156)\">\r\n      <defs>\r\n       <path d=\"M 2375 4863 \r\nL 2375 4384 \r\nL 1825 4384 \r\nQ 1516 4384 1395 4259 \r\nQ 1275 4134 1275 3809 \r\nL 1275 3500 \r\nL 2222 3500 \r\nL 2222 3053 \r\nL 1275 3053 \r\nL 1275 0 \r\nL 697 0 \r\nL 697 3053 \r\nL 147 3053 \r\nL 147 3500 \r\nL 697 3500 \r\nL 697 3744 \r\nQ 697 4328 969 4595 \r\nQ 1241 4863 1831 4863 \r\nL 2375 4863 \r\nz\r\n\" id=\"DejaVuSans-66\" transform=\"scale(0.015625)\"/>\r\n      </defs>\r\n      <use xlink:href=\"#DejaVuSans-4d\"/>\r\n      <use x=\"86.279297\" xlink:href=\"#DejaVuSans-61\"/>\r\n      <use x=\"147.558594\" xlink:href=\"#DejaVuSans-6e\"/>\r\n      <use x=\"210.9375\" xlink:href=\"#DejaVuSans-75\"/>\r\n      <use x=\"274.316406\" xlink:href=\"#DejaVuSans-66\"/>\r\n      <use x=\"309.521484\" xlink:href=\"#DejaVuSans-61\"/>\r\n      <use x=\"370.800781\" xlink:href=\"#DejaVuSans-63\"/>\r\n      <use x=\"425.78125\" xlink:href=\"#DejaVuSans-74\"/>\r\n      <use x=\"464.990234\" xlink:href=\"#DejaVuSans-75\"/>\r\n      <use x=\"528.369141\" xlink:href=\"#DejaVuSans-72\"/>\r\n      <use x=\"567.232422\" xlink:href=\"#DejaVuSans-65\"/>\r\n      <use x=\"628.755859\" xlink:href=\"#DejaVuSans-72\"/>\r\n     </g>\r\n    </g>\r\n   </g>\r\n   <g id=\"matplotlib.axis_2\">\r\n    <g id=\"ytick_1\">\r\n     <g id=\"text_12\">\r\n      <!-- 25 -->\r\n      <g style=\"fill:#262626;\" transform=\"translate(26.297875 254.997589)scale(0.143 -0.143)\">\r\n       <defs>\r\n        <path d=\"M 1228 531 \r\nL 3431 531 \r\nL 3431 0 \r\nL 469 0 \r\nL 469 531 \r\nQ 828 903 1448 1529 \r\nQ 2069 2156 2228 2338 \r\nQ 2531 2678 2651 2914 \r\nQ 2772 3150 2772 3378 \r\nQ 2772 3750 2511 3984 \r\nQ 2250 4219 1831 4219 \r\nQ 1534 4219 1204 4116 \r\nQ 875 4013 500 3803 \r\nL 500 4441 \r\nQ 881 4594 1212 4672 \r\nQ 1544 4750 1819 4750 \r\nQ 2544 4750 2975 4387 \r\nQ 3406 4025 3406 3419 \r\nQ 3406 3131 3298 2873 \r\nQ 3191 2616 2906 2266 \r\nQ 2828 2175 2409 1742 \r\nQ 1991 1309 1228 531 \r\nz\r\n\" id=\"DejaVuSans-32\" transform=\"scale(0.015625)\"/>\r\n        <path d=\"M 691 4666 \r\nL 3169 4666 \r\nL 3169 4134 \r\nL 1269 4134 \r\nL 1269 2991 \r\nQ 1406 3038 1543 3061 \r\nQ 1681 3084 1819 3084 \r\nQ 2600 3084 3056 2656 \r\nQ 3513 2228 3513 1497 \r\nQ 3513 744 3044 326 \r\nQ 2575 -91 1722 -91 \r\nQ 1428 -91 1123 -41 \r\nQ 819 9 494 109 \r\nL 494 744 \r\nQ 775 591 1075 516 \r\nQ 1375 441 1709 441 \r\nQ 2250 441 2565 725 \r\nQ 2881 1009 2881 1497 \r\nQ 2881 1984 2565 2268 \r\nQ 2250 2553 1709 2553 \r\nQ 1456 2553 1204 2497 \r\nQ 953 2441 691 2322 \r\nL 691 4666 \r\nz\r\n\" id=\"DejaVuSans-35\" transform=\"scale(0.015625)\"/>\r\n       </defs>\r\n       <use xlink:href=\"#DejaVuSans-32\"/>\r\n       <use x=\"63.623047\" xlink:href=\"#DejaVuSans-35\"/>\r\n      </g>\r\n     </g>\r\n    </g>\r\n    <g id=\"ytick_2\">\r\n     <g id=\"text_13\">\r\n      <!-- 30 -->\r\n      <g style=\"fill:#262626;\" transform=\"translate(26.297875 217.938765)scale(0.143 -0.143)\">\r\n       <defs>\r\n        <path d=\"M 2597 2516 \r\nQ 3050 2419 3304 2112 \r\nQ 3559 1806 3559 1356 \r\nQ 3559 666 3084 287 \r\nQ 2609 -91 1734 -91 \r\nQ 1441 -91 1130 -33 \r\nQ 819 25 488 141 \r\nL 488 750 \r\nQ 750 597 1062 519 \r\nQ 1375 441 1716 441 \r\nQ 2309 441 2620 675 \r\nQ 2931 909 2931 1356 \r\nQ 2931 1769 2642 2001 \r\nQ 2353 2234 1838 2234 \r\nL 1294 2234 \r\nL 1294 2753 \r\nL 1863 2753 \r\nQ 2328 2753 2575 2939 \r\nQ 2822 3125 2822 3475 \r\nQ 2822 3834 2567 4026 \r\nQ 2313 4219 1838 4219 \r\nQ 1578 4219 1281 4162 \r\nQ 984 4106 628 3988 \r\nL 628 4550 \r\nQ 988 4650 1302 4700 \r\nQ 1616 4750 1894 4750 \r\nQ 2613 4750 3031 4423 \r\nQ 3450 4097 3450 3541 \r\nQ 3450 3153 3228 2886 \r\nQ 3006 2619 2597 2516 \r\nz\r\n\" id=\"DejaVuSans-33\" transform=\"scale(0.015625)\"/>\r\n        <path d=\"M 2034 4250 \r\nQ 1547 4250 1301 3770 \r\nQ 1056 3291 1056 2328 \r\nQ 1056 1369 1301 889 \r\nQ 1547 409 2034 409 \r\nQ 2525 409 2770 889 \r\nQ 3016 1369 3016 2328 \r\nQ 3016 3291 2770 3770 \r\nQ 2525 4250 2034 4250 \r\nz\r\nM 2034 4750 \r\nQ 2819 4750 3233 4129 \r\nQ 3647 3509 3647 2328 \r\nQ 3647 1150 3233 529 \r\nQ 2819 -91 2034 -91 \r\nQ 1250 -91 836 529 \r\nQ 422 1150 422 2328 \r\nQ 422 3509 836 4129 \r\nQ 1250 4750 2034 4750 \r\nz\r\n\" id=\"DejaVuSans-30\" transform=\"scale(0.015625)\"/>\r\n       </defs>\r\n       <use xlink:href=\"#DejaVuSans-33\"/>\r\n       <use x=\"63.623047\" xlink:href=\"#DejaVuSans-30\"/>\r\n      </g>\r\n     </g>\r\n    </g>\r\n    <g id=\"ytick_3\">\r\n     <g id=\"text_14\">\r\n      <!-- 35 -->\r\n      <g style=\"fill:#262626;\" transform=\"translate(26.297875 180.879942)scale(0.143 -0.143)\">\r\n       <use xlink:href=\"#DejaVuSans-33\"/>\r\n       <use x=\"63.623047\" xlink:href=\"#DejaVuSans-35\"/>\r\n      </g>\r\n     </g>\r\n    </g>\r\n    <g id=\"ytick_4\">\r\n     <g id=\"text_15\">\r\n      <!-- 40 -->\r\n      <g style=\"fill:#262626;\" transform=\"translate(26.297875 143.821118)scale(0.143 -0.143)\">\r\n       <defs>\r\n        <path d=\"M 2419 4116 \r\nL 825 1625 \r\nL 2419 1625 \r\nL 2419 4116 \r\nz\r\nM 2253 4666 \r\nL 3047 4666 \r\nL 3047 1625 \r\nL 3713 1625 \r\nL 3713 1100 \r\nL 3047 1100 \r\nL 3047 0 \r\nL 2419 0 \r\nL 2419 1100 \r\nL 313 1100 \r\nL 313 1709 \r\nL 2253 4666 \r\nz\r\n\" id=\"DejaVuSans-34\" transform=\"scale(0.015625)\"/>\r\n       </defs>\r\n       <use xlink:href=\"#DejaVuSans-34\"/>\r\n       <use x=\"63.623047\" xlink:href=\"#DejaVuSans-30\"/>\r\n      </g>\r\n     </g>\r\n    </g>\r\n    <g id=\"ytick_5\">\r\n     <g id=\"text_16\">\r\n      <!-- 45 -->\r\n      <g style=\"fill:#262626;\" transform=\"translate(26.297875 106.762295)scale(0.143 -0.143)\">\r\n       <use xlink:href=\"#DejaVuSans-34\"/>\r\n       <use x=\"63.623047\" xlink:href=\"#DejaVuSans-35\"/>\r\n      </g>\r\n     </g>\r\n    </g>\r\n    <g id=\"ytick_6\">\r\n     <g id=\"text_17\">\r\n      <!-- 50 -->\r\n      <g style=\"fill:#262626;\" transform=\"translate(26.297875 69.703471)scale(0.143 -0.143)\">\r\n       <use xlink:href=\"#DejaVuSans-35\"/>\r\n       <use x=\"63.623047\" xlink:href=\"#DejaVuSans-30\"/>\r\n      </g>\r\n     </g>\r\n    </g>\r\n    <g id=\"ytick_7\">\r\n     <g id=\"text_18\">\r\n      <!-- 55 -->\r\n      <g style=\"fill:#262626;\" transform=\"translate(26.297875 32.644648)scale(0.143 -0.143)\">\r\n       <use xlink:href=\"#DejaVuSans-35\"/>\r\n       <use x=\"63.623047\" xlink:href=\"#DejaVuSans-35\"/>\r\n      </g>\r\n     </g>\r\n    </g>\r\n    <g id=\"text_19\">\r\n     <!-- id -->\r\n     <g style=\"fill:#262626;\" transform=\"translate(19.053563 152.918719)rotate(-90)scale(0.156 -0.156)\">\r\n      <use xlink:href=\"#DejaVuSans-69\"/>\r\n      <use x=\"27.783203\" xlink:href=\"#DejaVuSans-64\"/>\r\n     </g>\r\n    </g>\r\n   </g>\r\n   <g id=\"QuadMesh_1\">\r\n    <path clip-path=\"url(#pd9254f838f)\" d=\"M 71.74917 271.8 \r\nL 107.258261 271.8 \r\nL 107.258261 221.4 \r\nL 71.74917 221.4 \r\nL 71.74917 271.8 \r\n\" style=\"fill:none;\"/>\r\n    <path clip-path=\"url(#pd9254f838f)\" d=\"M 107.258261 271.8 \r\nL 142.767352 271.8 \r\nL 142.767352 221.4 \r\nL 107.258261 221.4 \r\nL 107.258261 271.8 \r\n\" style=\"fill:none;\"/>\r\n    <path clip-path=\"url(#pd9254f838f)\" d=\"M 142.767352 271.8 \r\nL 178.276443 271.8 \r\nL 178.276443 221.4 \r\nL 142.767352 221.4 \r\nL 142.767352 271.8 \r\n\" style=\"fill:none;\"/>\r\n    <path clip-path=\"url(#pd9254f838f)\" d=\"M 178.276443 271.8 \r\nL 213.785534 271.8 \r\nL 213.785534 221.4 \r\nL 178.276443 221.4 \r\nL 178.276443 271.8 \r\n\" style=\"fill:none;\"/>\r\n    <path clip-path=\"url(#pd9254f838f)\" d=\"M 213.785534 271.8 \r\nL 249.294625 271.8 \r\nL 249.294625 221.4 \r\nL 213.785534 221.4 \r\nL 213.785534 271.8 \r\n\" style=\"fill:#46526c;\"/>\r\n    <path clip-path=\"url(#pd9254f838f)\" d=\"M 249.294625 271.8 \r\nL 284.803716 271.8 \r\nL 284.803716 221.4 \r\nL 249.294625 221.4 \r\nL 249.294625 271.8 \r\n\" style=\"fill:#46526c;\"/>\r\n    <path clip-path=\"url(#pd9254f838f)\" d=\"M 284.803716 271.8 \r\nL 320.312807 271.8 \r\nL 320.312807 221.4 \r\nL 284.803716 221.4 \r\nL 284.803716 271.8 \r\n\" style=\"fill:#46526c;\"/>\r\n    <path clip-path=\"url(#pd9254f838f)\" d=\"M 320.312807 271.8 \r\nL 355.821898 271.8 \r\nL 355.821898 221.4 \r\nL 320.312807 221.4 \r\nL 320.312807 271.8 \r\n\" style=\"fill:#46526c;\"/>\r\n    <path clip-path=\"url(#pd9254f838f)\" d=\"M 355.821898 271.8 \r\nL 391.330989 271.8 \r\nL 391.330989 221.4 \r\nL 355.821898 221.4 \r\nL 355.821898 271.8 \r\n\" style=\"fill:#46526c;\"/>\r\n    <path clip-path=\"url(#pd9254f838f)\" d=\"M 391.330989 271.8 \r\nL 426.84008 271.8 \r\nL 426.84008 221.4 \r\nL 391.330989 221.4 \r\nL 391.330989 271.8 \r\n\" style=\"fill:#46526c;\"/>\r\n    <path clip-path=\"url(#pd9254f838f)\" d=\"M 71.74917 221.4 \r\nL 107.258261 221.4 \r\nL 107.258261 171 \r\nL 71.74917 171 \r\nL 71.74917 221.4 \r\n\" style=\"fill:none;\"/>\r\n    <path clip-path=\"url(#pd9254f838f)\" d=\"M 107.258261 221.4 \r\nL 142.767352 221.4 \r\nL 142.767352 171 \r\nL 107.258261 171 \r\nL 107.258261 221.4 \r\n\" style=\"fill:none;\"/>\r\n    <path clip-path=\"url(#pd9254f838f)\" d=\"M 142.767352 221.4 \r\nL 178.276443 221.4 \r\nL 178.276443 171 \r\nL 142.767352 171 \r\nL 142.767352 221.4 \r\n\" style=\"fill:#46526c;\"/>\r\n    <path clip-path=\"url(#pd9254f838f)\" d=\"M 178.276443 221.4 \r\nL 213.785534 221.4 \r\nL 213.785534 171 \r\nL 178.276443 171 \r\nL 178.276443 221.4 \r\n\" style=\"fill:#46526c;\"/>\r\n    <path clip-path=\"url(#pd9254f838f)\" d=\"M 213.785534 221.4 \r\nL 249.294625 221.4 \r\nL 249.294625 171 \r\nL 213.785534 171 \r\nL 213.785534 221.4 \r\n\" style=\"fill:none;\"/>\r\n    <path clip-path=\"url(#pd9254f838f)\" d=\"M 249.294625 221.4 \r\nL 284.803716 221.4 \r\nL 284.803716 171 \r\nL 249.294625 171 \r\nL 249.294625 221.4 \r\n\" style=\"fill:none;\"/>\r\n    <path clip-path=\"url(#pd9254f838f)\" d=\"M 284.803716 221.4 \r\nL 320.312807 221.4 \r\nL 320.312807 171 \r\nL 284.803716 171 \r\nL 284.803716 221.4 \r\n\" style=\"fill:none;\"/>\r\n    <path clip-path=\"url(#pd9254f838f)\" d=\"M 320.312807 221.4 \r\nL 355.821898 221.4 \r\nL 355.821898 171 \r\nL 320.312807 171 \r\nL 320.312807 221.4 \r\n\" style=\"fill:none;\"/>\r\n    <path clip-path=\"url(#pd9254f838f)\" d=\"M 355.821898 221.4 \r\nL 391.330989 221.4 \r\nL 391.330989 171 \r\nL 355.821898 171 \r\nL 355.821898 221.4 \r\n\" style=\"fill:none;\"/>\r\n    <path clip-path=\"url(#pd9254f838f)\" d=\"M 391.330989 221.4 \r\nL 426.84008 221.4 \r\nL 426.84008 171 \r\nL 391.330989 171 \r\nL 391.330989 221.4 \r\n\" style=\"fill:none;\"/>\r\n    <path clip-path=\"url(#pd9254f838f)\" d=\"M 71.74917 171 \r\nL 107.258261 171 \r\nL 107.258261 120.6 \r\nL 71.74917 120.6 \r\nL 71.74917 171 \r\n\" style=\"fill:none;\"/>\r\n    <path clip-path=\"url(#pd9254f838f)\" d=\"M 107.258261 171 \r\nL 142.767352 171 \r\nL 142.767352 120.6 \r\nL 107.258261 120.6 \r\nL 107.258261 171 \r\n\" style=\"fill:#46526c;\"/>\r\n    <path clip-path=\"url(#pd9254f838f)\" d=\"M 142.767352 171 \r\nL 178.276443 171 \r\nL 178.276443 120.6 \r\nL 142.767352 120.6 \r\nL 142.767352 171 \r\n\" style=\"fill:none;\"/>\r\n    <path clip-path=\"url(#pd9254f838f)\" d=\"M 178.276443 171 \r\nL 213.785534 171 \r\nL 213.785534 120.6 \r\nL 178.276443 120.6 \r\nL 178.276443 171 \r\n\" style=\"fill:none;\"/>\r\n    <path clip-path=\"url(#pd9254f838f)\" d=\"M 213.785534 171 \r\nL 249.294625 171 \r\nL 249.294625 120.6 \r\nL 213.785534 120.6 \r\nL 213.785534 171 \r\n\" style=\"fill:none;\"/>\r\n    <path clip-path=\"url(#pd9254f838f)\" d=\"M 249.294625 171 \r\nL 284.803716 171 \r\nL 284.803716 120.6 \r\nL 249.294625 120.6 \r\nL 249.294625 171 \r\n\" style=\"fill:none;\"/>\r\n    <path clip-path=\"url(#pd9254f838f)\" d=\"M 284.803716 171 \r\nL 320.312807 171 \r\nL 320.312807 120.6 \r\nL 284.803716 120.6 \r\nL 284.803716 171 \r\n\" style=\"fill:none;\"/>\r\n    <path clip-path=\"url(#pd9254f838f)\" d=\"M 320.312807 171 \r\nL 355.821898 171 \r\nL 355.821898 120.6 \r\nL 320.312807 120.6 \r\nL 320.312807 171 \r\n\" style=\"fill:none;\"/>\r\n    <path clip-path=\"url(#pd9254f838f)\" d=\"M 355.821898 171 \r\nL 391.330989 171 \r\nL 391.330989 120.6 \r\nL 355.821898 120.6 \r\nL 355.821898 171 \r\n\" style=\"fill:none;\"/>\r\n    <path clip-path=\"url(#pd9254f838f)\" d=\"M 391.330989 171 \r\nL 426.84008 171 \r\nL 426.84008 120.6 \r\nL 391.330989 120.6 \r\nL 391.330989 171 \r\n\" style=\"fill:none;\"/>\r\n    <path clip-path=\"url(#pd9254f838f)\" d=\"M 71.74917 120.6 \r\nL 107.258261 120.6 \r\nL 107.258261 70.2 \r\nL 71.74917 70.2 \r\nL 71.74917 120.6 \r\n\" style=\"fill:none;\"/>\r\n    <path clip-path=\"url(#pd9254f838f)\" d=\"M 107.258261 120.6 \r\nL 142.767352 120.6 \r\nL 142.767352 70.2 \r\nL 107.258261 70.2 \r\nL 107.258261 120.6 \r\n\" style=\"fill:none;\"/>\r\n    <path clip-path=\"url(#pd9254f838f)\" d=\"M 142.767352 120.6 \r\nL 178.276443 120.6 \r\nL 178.276443 70.2 \r\nL 142.767352 70.2 \r\nL 142.767352 120.6 \r\n\" style=\"fill:none;\"/>\r\n    <path clip-path=\"url(#pd9254f838f)\" d=\"M 178.276443 120.6 \r\nL 213.785534 120.6 \r\nL 213.785534 70.2 \r\nL 178.276443 70.2 \r\nL 178.276443 120.6 \r\n\" style=\"fill:none;\"/>\r\n    <path clip-path=\"url(#pd9254f838f)\" d=\"M 213.785534 120.6 \r\nL 249.294625 120.6 \r\nL 249.294625 70.2 \r\nL 213.785534 70.2 \r\nL 213.785534 120.6 \r\n\" style=\"fill:none;\"/>\r\n    <path clip-path=\"url(#pd9254f838f)\" d=\"M 249.294625 120.6 \r\nL 284.803716 120.6 \r\nL 284.803716 70.2 \r\nL 249.294625 70.2 \r\nL 249.294625 120.6 \r\n\" style=\"fill:none;\"/>\r\n    <path clip-path=\"url(#pd9254f838f)\" d=\"M 284.803716 120.6 \r\nL 320.312807 120.6 \r\nL 320.312807 70.2 \r\nL 284.803716 70.2 \r\nL 284.803716 120.6 \r\n\" style=\"fill:none;\"/>\r\n    <path clip-path=\"url(#pd9254f838f)\" d=\"M 320.312807 120.6 \r\nL 355.821898 120.6 \r\nL 355.821898 70.2 \r\nL 320.312807 70.2 \r\nL 320.312807 120.6 \r\n\" style=\"fill:none;\"/>\r\n    <path clip-path=\"url(#pd9254f838f)\" d=\"M 355.821898 120.6 \r\nL 391.330989 120.6 \r\nL 391.330989 70.2 \r\nL 355.821898 70.2 \r\nL 355.821898 120.6 \r\n\" style=\"fill:none;\"/>\r\n    <path clip-path=\"url(#pd9254f838f)\" d=\"M 391.330989 120.6 \r\nL 426.84008 120.6 \r\nL 426.84008 70.2 \r\nL 391.330989 70.2 \r\nL 391.330989 120.6 \r\n\" style=\"fill:none;\"/>\r\n    <path clip-path=\"url(#pd9254f838f)\" d=\"M 71.74917 70.2 \r\nL 107.258261 70.2 \r\nL 107.258261 19.8 \r\nL 71.74917 19.8 \r\nL 71.74917 70.2 \r\n\" style=\"fill:#46526c;\"/>\r\n    <path clip-path=\"url(#pd9254f838f)\" d=\"M 107.258261 70.2 \r\nL 142.767352 70.2 \r\nL 142.767352 19.8 \r\nL 107.258261 19.8 \r\nL 107.258261 70.2 \r\n\" style=\"fill:none;\"/>\r\n    <path clip-path=\"url(#pd9254f838f)\" d=\"M 142.767352 70.2 \r\nL 178.276443 70.2 \r\nL 178.276443 19.8 \r\nL 142.767352 19.8 \r\nL 142.767352 70.2 \r\n\" style=\"fill:none;\"/>\r\n    <path clip-path=\"url(#pd9254f838f)\" d=\"M 178.276443 70.2 \r\nL 213.785534 70.2 \r\nL 213.785534 19.8 \r\nL 178.276443 19.8 \r\nL 178.276443 70.2 \r\n\" style=\"fill:none;\"/>\r\n    <path clip-path=\"url(#pd9254f838f)\" d=\"M 213.785534 70.2 \r\nL 249.294625 70.2 \r\nL 249.294625 19.8 \r\nL 213.785534 19.8 \r\nL 213.785534 70.2 \r\n\" style=\"fill:none;\"/>\r\n    <path clip-path=\"url(#pd9254f838f)\" d=\"M 249.294625 70.2 \r\nL 284.803716 70.2 \r\nL 284.803716 19.8 \r\nL 249.294625 19.8 \r\nL 249.294625 70.2 \r\n\" style=\"fill:none;\"/>\r\n    <path clip-path=\"url(#pd9254f838f)\" d=\"M 284.803716 70.2 \r\nL 320.312807 70.2 \r\nL 320.312807 19.8 \r\nL 284.803716 19.8 \r\nL 284.803716 70.2 \r\n\" style=\"fill:none;\"/>\r\n    <path clip-path=\"url(#pd9254f838f)\" d=\"M 320.312807 70.2 \r\nL 355.821898 70.2 \r\nL 355.821898 19.8 \r\nL 320.312807 19.8 \r\nL 320.312807 70.2 \r\n\" style=\"fill:none;\"/>\r\n    <path clip-path=\"url(#pd9254f838f)\" d=\"M 355.821898 70.2 \r\nL 391.330989 70.2 \r\nL 391.330989 19.8 \r\nL 355.821898 19.8 \r\nL 355.821898 70.2 \r\n\" style=\"fill:none;\"/>\r\n    <path clip-path=\"url(#pd9254f838f)\" d=\"M 391.330989 70.2 \r\nL 426.84008 70.2 \r\nL 426.84008 19.8 \r\nL 391.330989 19.8 \r\nL 391.330989 70.2 \r\n\" style=\"fill:none;\"/>\r\n   </g>\r\n   <g id=\"patch_3\">\r\n    <path d=\"M 53.994625 284.4 \r\nL 53.994625 7.2 \r\n\" style=\"fill:none;stroke:#262626;stroke-linecap:square;stroke-linejoin:miter;stroke-width:1.25;\"/>\r\n   </g>\r\n   <g id=\"patch_4\">\r\n    <path d=\"M 444.594625 284.4 \r\nL 444.594625 7.2 \r\n\" style=\"fill:none;stroke:#262626;stroke-linecap:square;stroke-linejoin:miter;stroke-width:1.25;\"/>\r\n   </g>\r\n   <g id=\"patch_5\">\r\n    <path d=\"M 53.994625 284.4 \r\nL 444.594625 284.4 \r\n\" style=\"fill:none;stroke:#262626;stroke-linecap:square;stroke-linejoin:miter;stroke-width:1.25;\"/>\r\n   </g>\r\n   <g id=\"patch_6\">\r\n    <path d=\"M 53.994625 7.2 \r\nL 444.594625 7.2 \r\n\" style=\"fill:none;stroke:#262626;stroke-linecap:square;stroke-linejoin:miter;stroke-width:1.25;\"/>\r\n   </g>\r\n  </g>\r\n </g>\r\n <defs>\r\n  <clipPath id=\"pd9254f838f\">\r\n   <rect height=\"277.2\" width=\"390.6\" x=\"53.994625\" y=\"7.2\"/>\r\n  </clipPath>\r\n </defs>\r\n</svg>\r\n",
      "text/plain": [
       "<Figure size 700x500 with 1 Axes>"
      ]
     },
     "metadata": {},
     "output_type": "display_data"
    }
   ],
   "source": [
    "sns.set(rc={'figure.figsize': (7, 5), 'font.family': [FONT_FAMILY]}, style='white')\n",
    "with sns.plotting_context(\"notebook\", font_scale=FONT_SCALE):\n",
    "    # seaborn's histogram\n",
    "    ax = sns.histplot(\n",
    "        data=ratings_per_manufacturer,\n",
    "        x='manufacturer',\n",
    "        y='id'\n",
    "    )\n",
    "    \n",
    "    # matplotlib's customization\n",
    "    ax.set_xlabel('Manufacturer')\n",
    "    ax.set_xticklabels(labels, rotation=45)"
   ]
  }
 ],
 "metadata": {
  "kernelspec": {
   "display_name": "Python 3.7.13 ('data-vis-jupyter-book')",
   "language": "python",
   "name": "python3"
  },
  "language_info": {
   "codemirror_mode": {
    "name": "ipython",
    "version": 3
   },
   "file_extension": ".py",
   "mimetype": "text/x-python",
   "name": "python",
   "nbconvert_exporter": "python",
   "pygments_lexer": "ipython3",
   "version": "3.7.13"
  },
  "vscode": {
   "interpreter": {
    "hash": "3ebf5285390510d61c6f267955324cfe7a2b5dc9b1b60afc1c88049367e6b2cd"
   }
  },
  "widgets": {
   "application/vnd.jupyter.widget-state+json": {
    "state": {},
    "version_major": 2,
    "version_minor": 0
   }
  }
 },
 "nbformat": 4,
 "nbformat_minor": 4
}
